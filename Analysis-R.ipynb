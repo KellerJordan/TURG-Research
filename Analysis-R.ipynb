{
 "cells": [
  {
   "cell_type": "markdown",
   "metadata": {
    "deletable": true,
    "editable": true
   },
   "source": [
    "# Analysis-R\n",
    "\n",
    "Do stuff in R"
   ]
  },
  {
   "cell_type": "code",
   "execution_count": 76,
   "metadata": {
    "collapsed": false,
    "deletable": true,
    "editable": true
   },
   "outputs": [],
   "source": [
    "library(tidyverse)"
   ]
  },
  {
   "cell_type": "markdown",
   "metadata": {
    "deletable": true,
    "editable": true
   },
   "source": [
    "## Read in data"
   ]
  },
  {
   "cell_type": "code",
   "execution_count": 2,
   "metadata": {
    "collapsed": true,
    "deletable": true,
    "editable": true
   },
   "outputs": [],
   "source": [
    "BASE_PATH = '/data/archive/downstream/'\n",
    "SOURCES = c('TARGET', 'TCGA', 'THR', 'TH')\n",
    "\n",
    "AML = 'acute myeloid leukemia'\n",
    "ALL = 'acute lymphoblastic leukemia'"
   ]
  },
  {
   "cell_type": "code",
   "execution_count": 4,
   "metadata": {
    "collapsed": false,
    "deletable": true,
    "editable": true
   },
   "outputs": [
    {
     "name": "stderr",
     "output_type": "stream",
     "text": [
      "Parsed with column specification:\n",
      "cols(\n",
      "  .default = col_double(),\n",
      "  sample = col_character()\n",
      ")\n",
      "See spec(...) for full column specifications.\n",
      "Parsed with column specification:\n",
      "cols(\n",
      "  .default = col_character(),\n",
      "  age_at_dx = col_double()\n",
      ")\n",
      "See spec(...) for full column specifications.\n"
     ]
    }
   ],
   "source": [
    "corr_df <- read_tsv('/data/archive/compendium/v5/v5_all_by_all.2018-02-04.tsv')\n",
    "meta_df <- read_tsv('/data/archive/compendium/v5/clinical.tsv')"
   ]
  },
  {
   "cell_type": "code",
   "execution_count": 38,
   "metadata": {
    "collapsed": false,
    "deletable": true,
    "editable": true,
    "scrolled": false
   },
   "outputs": [
    {
     "name": "stderr",
     "output_type": "stream",
     "text": [
      "Parsed with column specification:\n",
      "cols(\n",
      "  THid = col_character(),\n",
      "  UMENDcount = col_double(),\n",
      "  libSelType = col_character()\n",
      ")\n"
     ]
    }
   ],
   "source": [
    "prep_df <- read_tsv('~/work/TURG/resources/TreehouseCompendiumSamples_LibraryPrep.tsv')\n",
    "\n",
    "type_df_cols = cols(\n",
    "  `TH Unique Donor Key` = col_character(),\n",
    "  `Treehouse Donor ID` = col_character(),\n",
    "  `Diagnosis/Disease` = col_character(),\n",
    "  `Diagnostic group` = col_character(),\n",
    "  Histology = col_character()\n",
    ")\n",
    "type_df <- read_csv('~/work/TURG/resources/DiseaseAnnotations_2018-04_Labels.csv',\n",
    "                    col_types = type_df_cols)"
   ]
  },
  {
   "cell_type": "code",
   "execution_count": null,
   "metadata": {
    "collapsed": true
   },
   "outputs": [],
   "source": [
    "get_similar_list <- function(sample_id) {\n",
    "    \n",
    "}"
   ]
  },
  {
   "cell_type": "code",
   "execution_count": null,
   "metadata": {
    "collapsed": true,
    "deletable": true,
    "editable": true
   },
   "outputs": [],
   "source": [
    "sample_to_src <- function(sample_id) {\n",
    "    \n",
    "}"
   ]
  },
  {
   "cell_type": "code",
   "execution_count": 74,
   "metadata": {
    "collapsed": true
   },
   "outputs": [],
   "source": [
    "help(str_extract)"
   ]
  },
  {
   "cell_type": "code",
   "execution_count": 52,
   "metadata": {
    "collapsed": false,
    "deletable": true,
    "editable": true
   },
   "outputs": [
    {
     "data": {
      "text/html": [
       "'TH'"
      ],
      "text/latex": [
       "'TH'"
      ],
      "text/markdown": [
       "'TH'"
      ],
      "text/plain": [
       "[1] \"TH\""
      ]
     },
     "metadata": {},
     "output_type": "display_data"
    },
    {
     "data": {
      "text/html": [
       "'TH05'"
      ],
      "text/latex": [
       "'TH05'"
      ],
      "text/markdown": [
       "'TH05'"
      ],
      "text/plain": [
       "[1] \"TH05\""
      ]
     },
     "metadata": {},
     "output_type": "display_data"
    }
   ],
   "source": [
    "a <- \"TH05_5THRO_S01\"\n",
    "gsub('[0-9].*', \"\", a)\n",
    "gsub('[_-].*', \"\", a)"
   ]
  },
  {
   "cell_type": "code",
   "execution_count": 48,
   "metadata": {
    "collapsed": false,
    "deletable": true,
    "editable": true
   },
   "outputs": [
    {
     "data": {
      "text/html": [
       "1"
      ],
      "text/latex": [
       "1"
      ],
      "text/markdown": [
       "1"
      ],
      "text/plain": [
       "[1] 1"
      ]
     },
     "metadata": {},
     "output_type": "display_data"
    }
   ],
   "source": [
    "grep('.', a)"
   ]
  }
 ],
 "metadata": {
  "kernelspec": {
   "display_name": "R",
   "language": "R",
   "name": "ir"
  },
  "language_info": {
   "codemirror_mode": "r",
   "file_extension": ".r",
   "mimetype": "text/x-r-source",
   "name": "R",
   "pygments_lexer": "r",
   "version": "3.3.2"
  }
 },
 "nbformat": 4,
 "nbformat_minor": 2
}
