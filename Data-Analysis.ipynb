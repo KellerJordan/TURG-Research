{
 "cells": [
  {
   "cell_type": "markdown",
   "metadata": {
    "deletable": true,
    "editable": true
   },
   "source": [
    "# Data-Analysis\n",
    "\n",
    "Import and analyze data"
   ]
  },
  {
   "cell_type": "code",
   "execution_count": 15,
   "metadata": {
    "collapsed": false,
    "deletable": true,
    "editable": true
   },
   "outputs": [],
   "source": [
    "import os\n",
    "import sys\n",
    "import json\n",
    "\n",
    "import numpy as np\n",
    "import pandas as pd\n",
    "import matplotlib.pyplot as plt"
   ]
  },
  {
   "cell_type": "code",
   "execution_count": 2,
   "metadata": {
    "collapsed": false,
    "deletable": true,
    "editable": true
   },
   "outputs": [
    {
     "name": "stdout",
     "output_type": "stream",
     "text": [
      "CPU times: user 40 ms, sys: 36 ms, total: 76 ms\n",
      "Wall time: 74.8 ms\n"
     ]
    }
   ],
   "source": [
    "%%time\n",
    "prep_path = 'data/TreehouseCompendiumSamples_LibraryPrep.tsv'\n",
    "prep_df = pd.read_csv(prep_path, sep='\\t', index_col=0)"
   ]
  },
  {
   "cell_type": "code",
   "execution_count": 3,
   "metadata": {
    "collapsed": false,
    "deletable": true,
    "editable": true,
    "scrolled": true
   },
   "outputs": [
    {
     "name": "stdout",
     "output_type": "stream",
     "text": [
      "CPU times: user 2min 10s, sys: 54.2 s, total: 3min 5s\n",
      "Wall time: 3min 8s\n"
     ]
    }
   ],
   "source": [
    "%%time\n",
    "corr_path = 'data/v5_all_by_all.2018-02-04.tsv'\n",
    "corr_df = pd.read_csv(corr_path, sep='\\t', index_col=0)"
   ]
  },
  {
   "cell_type": "code",
   "execution_count": 4,
   "metadata": {
    "collapsed": false,
    "deletable": true,
    "editable": true
   },
   "outputs": [
    {
     "name": "stdout",
     "output_type": "stream",
     "text": [
      "CPU times: user 156 ms, sys: 36 ms, total: 192 ms\n",
      "Wall time: 160 ms\n"
     ]
    }
   ],
   "source": [
    "%%time\n",
    "meta_path = 'data/clinical.tsv'\n",
    "meta_df = pd.read_csv(meta_path, sep='\\t', index_col=0)"
   ]
  },
  {
   "cell_type": "code",
   "execution_count": 5,
   "metadata": {
    "collapsed": false,
    "deletable": true,
    "editable": true
   },
   "outputs": [
    {
     "name": "stdout",
     "output_type": "stream",
     "text": [
      "CPU times: user 48 ms, sys: 8 ms, total: 56 ms\n",
      "Wall time: 53.9 ms\n"
     ]
    }
   ],
   "source": [
    "%%time\n",
    "type_path = 'data/DiseaseAnnotations_2018-04_Labels.csv'\n",
    "type_df = pd.read_csv(type_path, sep=',', index_col=1)"
   ]
  },
  {
   "cell_type": "code",
   "execution_count": 6,
   "metadata": {
    "collapsed": false,
    "deletable": true,
    "editable": true,
    "scrolled": true
   },
   "outputs": [
    {
     "name": "stdout",
     "output_type": "stream",
     "text": [
      "polyASelection            11505\n",
      "riboDepletion               191\n",
      "presumed riboDepletion       32\n",
      "unknown                       9\n",
      "exomeSelection                8\n",
      "Name: libSelType, dtype: int64\n",
      "NA 1003\n"
     ]
    }
   ],
   "source": [
    "print(prep_df['libSelType'].value_counts())\n",
    "print('NA', len(prep_df['libSelType']) - prep_df['libSelType'].count())"
   ]
  },
  {
   "cell_type": "code",
   "execution_count": 7,
   "metadata": {
    "collapsed": false,
    "deletable": true,
    "editable": true
   },
   "outputs": [
    {
     "name": "stdout",
     "output_type": "stream",
     "text": [
      "12748 11340 11340\n"
     ]
    }
   ],
   "source": [
    "print(len(prep_df), len(meta_df), len(corr_df))"
   ]
  },
  {
   "cell_type": "markdown",
   "metadata": {
    "deletable": true,
    "editable": true
   },
   "source": [
    "### [?] Duplicate Entries in library prep tsv"
   ]
  },
  {
   "cell_type": "code",
   "execution_count": 8,
   "metadata": {
    "collapsed": false,
    "deletable": true,
    "editable": true
   },
   "outputs": [
    {
     "data": {
      "text/html": [
       "<div>\n",
       "<table border=\"1\" class=\"dataframe\">\n",
       "  <thead>\n",
       "    <tr style=\"text-align: right;\">\n",
       "      <th></th>\n",
       "      <th>UMENDcount</th>\n",
       "      <th>libSelType</th>\n",
       "    </tr>\n",
       "    <tr>\n",
       "      <th>THid</th>\n",
       "      <th></th>\n",
       "      <th></th>\n",
       "    </tr>\n",
       "  </thead>\n",
       "  <tbody>\n",
       "    <tr>\n",
       "      <th>TCGA-AB-2860-03</th>\n",
       "      <td>NaN</td>\n",
       "      <td>polyASelection</td>\n",
       "    </tr>\n",
       "    <tr>\n",
       "      <th>TCGA-AB-2860-03</th>\n",
       "      <td>NaN</td>\n",
       "      <td>NaN</td>\n",
       "    </tr>\n",
       "  </tbody>\n",
       "</table>\n",
       "</div>"
      ],
      "text/plain": [
       "                 UMENDcount      libSelType\n",
       "THid                                       \n",
       "TCGA-AB-2860-03         NaN  polyASelection\n",
       "TCGA-AB-2860-03         NaN             NaN"
      ]
     },
     "execution_count": 8,
     "metadata": {},
     "output_type": "execute_result"
    }
   ],
   "source": [
    "prep_df.loc['TCGA-AB-2860-03']"
   ]
  },
  {
   "cell_type": "code",
   "execution_count": 9,
   "metadata": {
    "collapsed": false,
    "deletable": true,
    "editable": true
   },
   "outputs": [
    {
     "name": "stdout",
     "output_type": "stream",
     "text": [
      "833\n",
      "1666\n"
     ]
    }
   ],
   "source": [
    "print(sum(prep_df.index.duplicated()))\n",
    "print(sum(prep_df.index.duplicated(False)))\n",
    "assert 1666 == 2 * 833"
   ]
  },
  {
   "cell_type": "markdown",
   "metadata": {
    "deletable": true,
    "editable": true
   },
   "source": [
    "There are 833 rows which are duplicated exactly once in the prep tsv."
   ]
  },
  {
   "cell_type": "markdown",
   "metadata": {
    "deletable": true,
    "editable": true
   },
   "source": [
    "### Method to get correlations from TSV or JSON"
   ]
  },
  {
   "cell_type": "code",
   "execution_count": 10,
   "metadata": {
    "collapsed": false,
    "deletable": true,
    "editable": true
   },
   "outputs": [],
   "source": [
    "def get_correlations(sample):\n",
    "    if sample in corr_df.index:\n",
    "        corr_row = corr_df.loc[sample]\n",
    "        corr_dict = {s: c for s, c in zip(corr_df.index, corr_row)}\n",
    "    else:\n",
    "        json_path = '/data/archive/downstream/%s/tertiary/treehouse-8.0.1_comp-v5/2.0.json' % sample\n",
    "        if os.path.isfile(json_path):\n",
    "            with open(json_path, 'r') as f:\n",
    "                corr_dict = json.loads(f.read())['correlations_vs_focus_sample']\n",
    "        else:\n",
    "            corr_dict = None\n",
    "    return corr_dict"
   ]
  },
  {
   "cell_type": "code",
   "execution_count": 11,
   "metadata": {
    "collapsed": false,
    "deletable": true,
    "editable": true
   },
   "outputs": [],
   "source": [
    "def get_samples(prefix):\n",
    "    base_path = '/data/archive/downstream/'\n",
    "    if prefix[:6] == 'TARGET':\n",
    "        samples = [prefix+'-01A-01R']\n",
    "    elif prefix[:2] == 'TH':\n",
    "        prefix_path = '%s_S' % prefix\n",
    "        samples = []\n",
    "        for i in range(100):\n",
    "            index = '%02d' % i\n",
    "            sample_path = prefix_path+index\n",
    "            if os.path.isdir(base_path+sample_path):\n",
    "                samples.append(sample_path)\n",
    "    else:\n",
    "        raise Exception('Unknown prefix type')\n",
    "    return samples"
   ]
  },
  {
   "cell_type": "markdown",
   "metadata": {
    "deletable": true,
    "editable": true
   },
   "source": [
    "# Experiments/Results"
   ]
  },
  {
   "cell_type": "code",
   "execution_count": 12,
   "metadata": {
    "collapsed": true,
    "deletable": true,
    "editable": true
   },
   "outputs": [],
   "source": [
    "sample_A = 'TH01_0121_S01'\n",
    "sample_B = 'TH01_0123_S01'"
   ]
  },
  {
   "cell_type": "markdown",
   "metadata": {
    "deletable": true,
    "editable": true
   },
   "source": [
    "# 1.\n",
    "\n",
    "Recheck results: are most similar samples still AML in v5?"
   ]
  },
  {
   "cell_type": "markdown",
   "metadata": {
    "deletable": true,
    "editable": true
   },
   "source": [
    "### TH01_0121_S01\n",
    "\n",
    "https://jupyter.treehouse.gi.ucsc.edu/user/kellerjordan/files/TURG-Research/data/TH01_0121_S01/Summary.html\n",
    "\n",
    "Of `6` most correlated samples, `3/6 = 0.5` were AML."
   ]
  },
  {
   "cell_type": "markdown",
   "metadata": {
    "deletable": true,
    "editable": true
   },
   "source": [
    "### TH01_0123_S01\n",
    "\n",
    "https://jupyter.treehouse.gi.ucsc.edu/user/kellerjordan/files/TURG-Research/data/TH01_0123_S01/Summary.html\n",
    "\n",
    "Of `6` most correlated samples, `6/6 = 1.0` were AML."
   ]
  },
  {
   "cell_type": "markdown",
   "metadata": {
    "deletable": true,
    "editable": true
   },
   "source": [
    "# 2.\n",
    "\n",
    "For each, what fraction of top 95% (corr > 0.87) were AML?"
   ]
  },
  {
   "cell_type": "code",
   "execution_count": 13,
   "metadata": {
    "collapsed": false,
    "deletable": true,
    "editable": true
   },
   "outputs": [],
   "source": [
    "def top_samples(sample, top_95=0.87):\n",
    "    correlations = get_correlations(sample)\n",
    "    if correlations is None:\n",
    "        return []\n",
    "    top_samples = []\n",
    "    for s, c in correlations.items():\n",
    "        if c > top_95:\n",
    "            top_samples.append(s)\n",
    "    return top_samples\n",
    "\n",
    "def get_prefix(sample):\n",
    "    last_pos = max(sample.rfind('_'), sample.rfind('-'))\n",
    "    return sample[:last_pos]\n",
    "\n",
    "def get_prefixes(samples):\n",
    "    return [get_prefix(s) for s in samples]\n",
    "\n",
    "def top_diseases(sample):\n",
    "    corr_samples = top_samples(sample)\n",
    "    prefix_corr_samples = get_prefixes(corr_samples)\n",
    "    corr_diseases = type_df.loc[prefix_corr_samples]['Diagnosis/Disease']\n",
    "    return corr_diseases\n",
    "\n",
    "def fraction_aml(sample, aml='acute myeloid leukemia'):\n",
    "    corr_diseases = top_diseases(sample)\n",
    "    disease_counts = corr_diseases.value_counts()\n",
    "    if aml in disease_counts:\n",
    "        return disease_counts['acute myeloid leukemia'] / len(corr_diseases)\n",
    "    else:\n",
    "        return 0"
   ]
  },
  {
   "cell_type": "code",
   "execution_count": 16,
   "metadata": {
    "collapsed": false,
    "deletable": true,
    "editable": true
   },
   "outputs": [
    {
     "name": "stdout",
     "output_type": "stream",
     "text": [
      "TH01_0121_S01:\n",
      "acute myeloid leukemia              29\n",
      "acute lymphoblastic leukemia         4\n",
      "acute leukemia                       4\n",
      "juvenile myelomonocytic leukemia     2\n",
      "Name: Diagnosis/Disease, dtype: int64\n",
      "Fraction AML: 0.74358974359\n",
      "\n",
      "TH01_0123_S01:\n",
      "acute myeloid leukemia          62\n",
      "acute lymphoblastic leukemia    40\n",
      "acute leukemia                   3\n",
      "Name: Diagnosis/Disease, dtype: int64\n",
      "Fraction AML: 0.590476190476\n"
     ]
    }
   ],
   "source": [
    "print('%s:' % sample_A)\n",
    "print(top_diseases(sample_A).value_counts())\n",
    "print('Fraction AML:', fraction_aml(sample_A))\n",
    "print()\n",
    "print('%s:' % sample_B)\n",
    "print(top_diseases(sample_B).value_counts())\n",
    "print('Fraction AML:', fraction_aml(sample_B))"
   ]
  },
  {
   "cell_type": "code",
   "execution_count": 17,
   "metadata": {
    "collapsed": false,
    "deletable": true,
    "editable": true,
    "scrolled": false
   },
   "outputs": [
    {
     "data": {
      "text/html": [
       "<div>\n",
       "<table border=\"1\" class=\"dataframe\">\n",
       "  <thead>\n",
       "    <tr style=\"text-align: right;\">\n",
       "      <th></th>\n",
       "      <th>TH Unique Donor Key</th>\n",
       "      <th>Diagnosis/Disease</th>\n",
       "      <th>Diagnostic group</th>\n",
       "      <th>Histology</th>\n",
       "    </tr>\n",
       "    <tr>\n",
       "      <th>Treehouse Donor ID</th>\n",
       "      <th></th>\n",
       "      <th></th>\n",
       "      <th></th>\n",
       "      <th></th>\n",
       "    </tr>\n",
       "  </thead>\n",
       "  <tbody>\n",
       "    <tr>\n",
       "      <th>THR31_0891</th>\n",
       "      <td>891</td>\n",
       "      <td>acute lymphoblastic leukemia</td>\n",
       "      <td>Hematopoietic</td>\n",
       "      <td>NaN</td>\n",
       "    </tr>\n",
       "    <tr>\n",
       "      <th>TCGA-AB-2884</th>\n",
       "      <td>TCGA-AB-2884</td>\n",
       "      <td>acute myeloid leukemia</td>\n",
       "      <td>Hematopoietic</td>\n",
       "      <td>NaN</td>\n",
       "    </tr>\n",
       "    <tr>\n",
       "      <th>THR31_0898</th>\n",
       "      <td>898</td>\n",
       "      <td>acute lymphoblastic leukemia</td>\n",
       "      <td>Hematopoietic</td>\n",
       "      <td>NaN</td>\n",
       "    </tr>\n",
       "    <tr>\n",
       "      <th>TCGA-AB-2943</th>\n",
       "      <td>TCGA-AB-2943</td>\n",
       "      <td>acute myeloid leukemia</td>\n",
       "      <td>Hematopoietic</td>\n",
       "      <td>NaN</td>\n",
       "    </tr>\n",
       "    <tr>\n",
       "      <th>THR08_0178</th>\n",
       "      <td>178</td>\n",
       "      <td>acute lymphoblastic leukemia</td>\n",
       "      <td>Hematopoietic</td>\n",
       "      <td>early pre-B</td>\n",
       "    </tr>\n",
       "    <tr>\n",
       "      <th>TCGA-AB-2860</th>\n",
       "      <td>TCGA-AB-2860</td>\n",
       "      <td>acute myeloid leukemia</td>\n",
       "      <td>Hematopoietic</td>\n",
       "      <td>NaN</td>\n",
       "    </tr>\n",
       "    <tr>\n",
       "      <th>TH26_0657</th>\n",
       "      <td>657</td>\n",
       "      <td>acute leukemia</td>\n",
       "      <td>Hematopoietic</td>\n",
       "      <td>NaN</td>\n",
       "    </tr>\n",
       "    <tr>\n",
       "      <th>TCGA-AB-2836</th>\n",
       "      <td>TCGA-AB-2836</td>\n",
       "      <td>acute myeloid leukemia</td>\n",
       "      <td>Hematopoietic</td>\n",
       "      <td>NaN</td>\n",
       "    </tr>\n",
       "    <tr>\n",
       "      <th>TARGET-10-PARMXF</th>\n",
       "      <td>TARGET-10-PARMXF</td>\n",
       "      <td>acute lymphoblastic leukemia</td>\n",
       "      <td>Hematopoietic</td>\n",
       "      <td>b-cell</td>\n",
       "    </tr>\n",
       "    <tr>\n",
       "      <th>TCGA-AB-2898</th>\n",
       "      <td>TCGA-AB-2898</td>\n",
       "      <td>acute myeloid leukemia</td>\n",
       "      <td>Hematopoietic</td>\n",
       "      <td>NaN</td>\n",
       "    </tr>\n",
       "    <tr>\n",
       "      <th>TCGA-AB-2843</th>\n",
       "      <td>TCGA-AB-2843</td>\n",
       "      <td>acute myeloid leukemia</td>\n",
       "      <td>Hematopoietic</td>\n",
       "      <td>NaN</td>\n",
       "    </tr>\n",
       "    <tr>\n",
       "      <th>TCGA-AB-2899</th>\n",
       "      <td>TCGA-AB-2899</td>\n",
       "      <td>acute myeloid leukemia</td>\n",
       "      <td>Hematopoietic</td>\n",
       "      <td>NaN</td>\n",
       "    </tr>\n",
       "    <tr>\n",
       "      <th>TARGET-20-PASTUH</th>\n",
       "      <td>TARGET-20-PASTUH</td>\n",
       "      <td>acute myeloid leukemia</td>\n",
       "      <td>Hematopoietic</td>\n",
       "      <td>NaN</td>\n",
       "    </tr>\n",
       "    <tr>\n",
       "      <th>TCGA-AB-2881</th>\n",
       "      <td>TCGA-AB-2881</td>\n",
       "      <td>acute myeloid leukemia</td>\n",
       "      <td>Hematopoietic</td>\n",
       "      <td>NaN</td>\n",
       "    </tr>\n",
       "    <tr>\n",
       "      <th>TCGA-AB-2915</th>\n",
       "      <td>TCGA-AB-2915</td>\n",
       "      <td>acute myeloid leukemia</td>\n",
       "      <td>Hematopoietic</td>\n",
       "      <td>NaN</td>\n",
       "    </tr>\n",
       "    <tr>\n",
       "      <th>TH03_0285</th>\n",
       "      <td>285</td>\n",
       "      <td>juvenile myelomonocytic leukemia</td>\n",
       "      <td>Hematopoietic</td>\n",
       "      <td>NaN</td>\n",
       "    </tr>\n",
       "    <tr>\n",
       "      <th>TARGET-20-PARSHM</th>\n",
       "      <td>TARGET-20-PARSHM</td>\n",
       "      <td>acute myeloid leukemia</td>\n",
       "      <td>Hematopoietic</td>\n",
       "      <td>NaN</td>\n",
       "    </tr>\n",
       "    <tr>\n",
       "      <th>TARGET-20-PARYFN</th>\n",
       "      <td>TARGET-20-PARYFN</td>\n",
       "      <td>acute myeloid leukemia</td>\n",
       "      <td>Hematopoietic</td>\n",
       "      <td>NaN</td>\n",
       "    </tr>\n",
       "    <tr>\n",
       "      <th>TCGA-AB-2936</th>\n",
       "      <td>TCGA-AB-2936</td>\n",
       "      <td>acute myeloid leukemia</td>\n",
       "      <td>Hematopoietic</td>\n",
       "      <td>NaN</td>\n",
       "    </tr>\n",
       "    <tr>\n",
       "      <th>TH26_0657</th>\n",
       "      <td>657</td>\n",
       "      <td>acute leukemia</td>\n",
       "      <td>Hematopoietic</td>\n",
       "      <td>NaN</td>\n",
       "    </tr>\n",
       "    <tr>\n",
       "      <th>TCGA-AB-2851</th>\n",
       "      <td>TCGA-AB-2851</td>\n",
       "      <td>acute myeloid leukemia</td>\n",
       "      <td>Hematopoietic</td>\n",
       "      <td>NaN</td>\n",
       "    </tr>\n",
       "    <tr>\n",
       "      <th>THR31_0910</th>\n",
       "      <td>910</td>\n",
       "      <td>juvenile myelomonocytic leukemia</td>\n",
       "      <td>Hematopoietic</td>\n",
       "      <td>NaN</td>\n",
       "    </tr>\n",
       "    <tr>\n",
       "      <th>TH26_0657</th>\n",
       "      <td>657</td>\n",
       "      <td>acute leukemia</td>\n",
       "      <td>Hematopoietic</td>\n",
       "      <td>NaN</td>\n",
       "    </tr>\n",
       "    <tr>\n",
       "      <th>TCGA-AB-2935</th>\n",
       "      <td>TCGA-AB-2935</td>\n",
       "      <td>acute myeloid leukemia</td>\n",
       "      <td>Hematopoietic</td>\n",
       "      <td>NaN</td>\n",
       "    </tr>\n",
       "    <tr>\n",
       "      <th>TCGA-AB-2868</th>\n",
       "      <td>TCGA-AB-2868</td>\n",
       "      <td>acute myeloid leukemia</td>\n",
       "      <td>Hematopoietic</td>\n",
       "      <td>NaN</td>\n",
       "    </tr>\n",
       "    <tr>\n",
       "      <th>TCGA-AB-2891</th>\n",
       "      <td>TCGA-AB-2891</td>\n",
       "      <td>acute myeloid leukemia</td>\n",
       "      <td>Hematopoietic</td>\n",
       "      <td>NaN</td>\n",
       "    </tr>\n",
       "    <tr>\n",
       "      <th>TCGA-AB-2952</th>\n",
       "      <td>TCGA-AB-2952</td>\n",
       "      <td>acute myeloid leukemia</td>\n",
       "      <td>Hematopoietic</td>\n",
       "      <td>NaN</td>\n",
       "    </tr>\n",
       "    <tr>\n",
       "      <th>TCGA-AB-2854</th>\n",
       "      <td>TCGA-AB-2854</td>\n",
       "      <td>acute myeloid leukemia</td>\n",
       "      <td>Hematopoietic</td>\n",
       "      <td>NaN</td>\n",
       "    </tr>\n",
       "    <tr>\n",
       "      <th>TCGA-AB-2916</th>\n",
       "      <td>TCGA-AB-2916</td>\n",
       "      <td>acute myeloid leukemia</td>\n",
       "      <td>Hematopoietic</td>\n",
       "      <td>NaN</td>\n",
       "    </tr>\n",
       "    <tr>\n",
       "      <th>TCGA-AB-2890</th>\n",
       "      <td>TCGA-AB-2890</td>\n",
       "      <td>acute myeloid leukemia</td>\n",
       "      <td>Hematopoietic</td>\n",
       "      <td>NaN</td>\n",
       "    </tr>\n",
       "    <tr>\n",
       "      <th>TCGA-AB-2813</th>\n",
       "      <td>TCGA-AB-2813</td>\n",
       "      <td>acute myeloid leukemia</td>\n",
       "      <td>Hematopoietic</td>\n",
       "      <td>NaN</td>\n",
       "    </tr>\n",
       "    <tr>\n",
       "      <th>TCGA-AB-2873</th>\n",
       "      <td>TCGA-AB-2873</td>\n",
       "      <td>acute myeloid leukemia</td>\n",
       "      <td>Hematopoietic</td>\n",
       "      <td>NaN</td>\n",
       "    </tr>\n",
       "    <tr>\n",
       "      <th>TARGET-20-PAPVDV</th>\n",
       "      <td>TARGET-20-PAPVDV</td>\n",
       "      <td>acute myeloid leukemia</td>\n",
       "      <td>Hematopoietic</td>\n",
       "      <td>NaN</td>\n",
       "    </tr>\n",
       "    <tr>\n",
       "      <th>TCGA-AB-2882</th>\n",
       "      <td>TCGA-AB-2882</td>\n",
       "      <td>acute myeloid leukemia</td>\n",
       "      <td>Hematopoietic</td>\n",
       "      <td>NaN</td>\n",
       "    </tr>\n",
       "    <tr>\n",
       "      <th>TH26_0657</th>\n",
       "      <td>657</td>\n",
       "      <td>acute leukemia</td>\n",
       "      <td>Hematopoietic</td>\n",
       "      <td>NaN</td>\n",
       "    </tr>\n",
       "    <tr>\n",
       "      <th>TCGA-AB-2948</th>\n",
       "      <td>TCGA-AB-2948</td>\n",
       "      <td>acute myeloid leukemia</td>\n",
       "      <td>Hematopoietic</td>\n",
       "      <td>NaN</td>\n",
       "    </tr>\n",
       "    <tr>\n",
       "      <th>TCGA-AB-2927</th>\n",
       "      <td>TCGA-AB-2927</td>\n",
       "      <td>acute myeloid leukemia</td>\n",
       "      <td>Hematopoietic</td>\n",
       "      <td>NaN</td>\n",
       "    </tr>\n",
       "    <tr>\n",
       "      <th>TCGA-AB-2837</th>\n",
       "      <td>TCGA-AB-2837</td>\n",
       "      <td>acute myeloid leukemia</td>\n",
       "      <td>Hematopoietic</td>\n",
       "      <td>NaN</td>\n",
       "    </tr>\n",
       "    <tr>\n",
       "      <th>TCGA-AB-2934</th>\n",
       "      <td>TCGA-AB-2934</td>\n",
       "      <td>acute myeloid leukemia</td>\n",
       "      <td>Hematopoietic</td>\n",
       "      <td>NaN</td>\n",
       "    </tr>\n",
       "  </tbody>\n",
       "</table>\n",
       "</div>"
      ],
      "text/plain": [
       "                   TH Unique Donor Key                 Diagnosis/Disease  \\\n",
       "Treehouse Donor ID                                                         \n",
       "THR31_0891                         891      acute lymphoblastic leukemia   \n",
       "TCGA-AB-2884              TCGA-AB-2884            acute myeloid leukemia   \n",
       "THR31_0898                         898      acute lymphoblastic leukemia   \n",
       "TCGA-AB-2943              TCGA-AB-2943            acute myeloid leukemia   \n",
       "THR08_0178                         178      acute lymphoblastic leukemia   \n",
       "TCGA-AB-2860              TCGA-AB-2860            acute myeloid leukemia   \n",
       "TH26_0657                          657                    acute leukemia   \n",
       "TCGA-AB-2836              TCGA-AB-2836            acute myeloid leukemia   \n",
       "TARGET-10-PARMXF      TARGET-10-PARMXF      acute lymphoblastic leukemia   \n",
       "TCGA-AB-2898              TCGA-AB-2898            acute myeloid leukemia   \n",
       "TCGA-AB-2843              TCGA-AB-2843            acute myeloid leukemia   \n",
       "TCGA-AB-2899              TCGA-AB-2899            acute myeloid leukemia   \n",
       "TARGET-20-PASTUH      TARGET-20-PASTUH            acute myeloid leukemia   \n",
       "TCGA-AB-2881              TCGA-AB-2881            acute myeloid leukemia   \n",
       "TCGA-AB-2915              TCGA-AB-2915            acute myeloid leukemia   \n",
       "TH03_0285                          285  juvenile myelomonocytic leukemia   \n",
       "TARGET-20-PARSHM      TARGET-20-PARSHM            acute myeloid leukemia   \n",
       "TARGET-20-PARYFN      TARGET-20-PARYFN            acute myeloid leukemia   \n",
       "TCGA-AB-2936              TCGA-AB-2936            acute myeloid leukemia   \n",
       "TH26_0657                          657                    acute leukemia   \n",
       "TCGA-AB-2851              TCGA-AB-2851            acute myeloid leukemia   \n",
       "THR31_0910                         910  juvenile myelomonocytic leukemia   \n",
       "TH26_0657                          657                    acute leukemia   \n",
       "TCGA-AB-2935              TCGA-AB-2935            acute myeloid leukemia   \n",
       "TCGA-AB-2868              TCGA-AB-2868            acute myeloid leukemia   \n",
       "TCGA-AB-2891              TCGA-AB-2891            acute myeloid leukemia   \n",
       "TCGA-AB-2952              TCGA-AB-2952            acute myeloid leukemia   \n",
       "TCGA-AB-2854              TCGA-AB-2854            acute myeloid leukemia   \n",
       "TCGA-AB-2916              TCGA-AB-2916            acute myeloid leukemia   \n",
       "TCGA-AB-2890              TCGA-AB-2890            acute myeloid leukemia   \n",
       "TCGA-AB-2813              TCGA-AB-2813            acute myeloid leukemia   \n",
       "TCGA-AB-2873              TCGA-AB-2873            acute myeloid leukemia   \n",
       "TARGET-20-PAPVDV      TARGET-20-PAPVDV            acute myeloid leukemia   \n",
       "TCGA-AB-2882              TCGA-AB-2882            acute myeloid leukemia   \n",
       "TH26_0657                          657                    acute leukemia   \n",
       "TCGA-AB-2948              TCGA-AB-2948            acute myeloid leukemia   \n",
       "TCGA-AB-2927              TCGA-AB-2927            acute myeloid leukemia   \n",
       "TCGA-AB-2837              TCGA-AB-2837            acute myeloid leukemia   \n",
       "TCGA-AB-2934              TCGA-AB-2934            acute myeloid leukemia   \n",
       "\n",
       "                   Diagnostic group    Histology  \n",
       "Treehouse Donor ID                                \n",
       "THR31_0891            Hematopoietic          NaN  \n",
       "TCGA-AB-2884          Hematopoietic          NaN  \n",
       "THR31_0898            Hematopoietic          NaN  \n",
       "TCGA-AB-2943          Hematopoietic          NaN  \n",
       "THR08_0178            Hematopoietic  early pre-B  \n",
       "TCGA-AB-2860          Hematopoietic          NaN  \n",
       "TH26_0657             Hematopoietic          NaN  \n",
       "TCGA-AB-2836          Hematopoietic          NaN  \n",
       "TARGET-10-PARMXF      Hematopoietic       b-cell  \n",
       "TCGA-AB-2898          Hematopoietic          NaN  \n",
       "TCGA-AB-2843          Hematopoietic          NaN  \n",
       "TCGA-AB-2899          Hematopoietic          NaN  \n",
       "TARGET-20-PASTUH      Hematopoietic          NaN  \n",
       "TCGA-AB-2881          Hematopoietic          NaN  \n",
       "TCGA-AB-2915          Hematopoietic          NaN  \n",
       "TH03_0285             Hematopoietic          NaN  \n",
       "TARGET-20-PARSHM      Hematopoietic          NaN  \n",
       "TARGET-20-PARYFN      Hematopoietic          NaN  \n",
       "TCGA-AB-2936          Hematopoietic          NaN  \n",
       "TH26_0657             Hematopoietic          NaN  \n",
       "TCGA-AB-2851          Hematopoietic          NaN  \n",
       "THR31_0910            Hematopoietic          NaN  \n",
       "TH26_0657             Hematopoietic          NaN  \n",
       "TCGA-AB-2935          Hematopoietic          NaN  \n",
       "TCGA-AB-2868          Hematopoietic          NaN  \n",
       "TCGA-AB-2891          Hematopoietic          NaN  \n",
       "TCGA-AB-2952          Hematopoietic          NaN  \n",
       "TCGA-AB-2854          Hematopoietic          NaN  \n",
       "TCGA-AB-2916          Hematopoietic          NaN  \n",
       "TCGA-AB-2890          Hematopoietic          NaN  \n",
       "TCGA-AB-2813          Hematopoietic          NaN  \n",
       "TCGA-AB-2873          Hematopoietic          NaN  \n",
       "TARGET-20-PAPVDV      Hematopoietic          NaN  \n",
       "TCGA-AB-2882          Hematopoietic          NaN  \n",
       "TH26_0657             Hematopoietic          NaN  \n",
       "TCGA-AB-2948          Hematopoietic          NaN  \n",
       "TCGA-AB-2927          Hematopoietic          NaN  \n",
       "TCGA-AB-2837          Hematopoietic          NaN  \n",
       "TCGA-AB-2934          Hematopoietic          NaN  "
      ]
     },
     "execution_count": 17,
     "metadata": {},
     "output_type": "execute_result"
    }
   ],
   "source": [
    "type_df.loc[get_prefixes(top_samples(sample_A))]"
   ]
  },
  {
   "cell_type": "markdown",
   "metadata": {
    "deletable": true,
    "editable": true
   },
   "source": [
    "# 3.\n",
    "\n",
    "Are the top most correlated samples still places in the AML cluster on tumormap?"
   ]
  },
  {
   "cell_type": "markdown",
   "metadata": {
    "deletable": true,
    "editable": true
   },
   "source": [
    "https://tumormap.ucsc.edu/?p=CKCC/v5&node=TH26_0657_S04,TH26_0657_S05,TH26_0657_S03,TCGA-AB-2915-03,TCGA-AB-2868-03,TCGA-AB-2952-03&x=24,25,24,346,346,344&y=323,321,322,40,42,40\n",
    "\n",
    "\n",
    "https://tumormap.ucsc.edu/?p=CKCC/v5&node=TCGA-AB-2934-03,TCGA-AB-2890-03,TCGA-AB-2927-03,TCGA-AB-2936-03,TCGA-AB-2915-03,TCGA-AB-2868-03&x=340,349,350,349,346,346&y=44,43,44,48,40,42"
   ]
  },
  {
   "cell_type": "markdown",
   "metadata": {
    "deletable": true,
    "editable": true
   },
   "source": [
    "For the top six most correlated samples in each case, all that were labeled AML are placed in the AML cluster. Those that are labeled ALL are not."
   ]
  },
  {
   "cell_type": "markdown",
   "metadata": {
    "deletable": true,
    "editable": true
   },
   "source": [
    "# 4.\n",
    "\n",
    "How correlated are other ALL samples with AML? Specifically, what impact does RiboD preparation have on their correlation? Use the `type_df` to find ALL samples of interest.\n",
    "\n",
    "This section is the only one where preparation type matters, as in every other case I search only in the correlation matrix which contains only PolyA-prepared samples."
   ]
  },
  {
   "cell_type": "code",
   "execution_count": 18,
   "metadata": {
    "collapsed": false,
    "deletable": true,
    "editable": true
   },
   "outputs": [
    {
     "data": {
      "text/plain": [
       "238"
      ]
     },
     "execution_count": 18,
     "metadata": {},
     "output_type": "execute_result"
    }
   ],
   "source": [
    "ALL_rows = type_df.loc[type_df['Diagnosis/Disease'] == 'acute lymphoblastic leukemia']\n",
    "ALL_prefixes = list(ALL_rows.index)\n",
    "len(ALL_prefixes)"
   ]
  },
  {
   "cell_type": "code",
   "execution_count": 19,
   "metadata": {
    "collapsed": false,
    "deletable": true,
    "editable": true
   },
   "outputs": [
    {
     "data": {
      "text/plain": [
       "246"
      ]
     },
     "execution_count": 19,
     "metadata": {},
     "output_type": "execute_result"
    }
   ],
   "source": [
    "ALL_samples = []\n",
    "for prefix in ALL_rows.index:\n",
    "    ALL_samples.extend(get_samples(prefix))\n",
    "len(ALL_samples)"
   ]
  },
  {
   "cell_type": "code",
   "execution_count": 20,
   "metadata": {
    "collapsed": true,
    "deletable": true,
    "editable": true
   },
   "outputs": [],
   "source": [
    "sources = ['THR', 'TH0', 'TARGET']"
   ]
  },
  {
   "cell_type": "code",
   "execution_count": 21,
   "metadata": {
    "collapsed": false,
    "deletable": true,
    "editable": true,
    "scrolled": false
   },
   "outputs": [],
   "source": [
    "fracs_aml = {}\n",
    "for sample in ALL_samples:\n",
    "    fracs_aml[sample] = fraction_aml(sample)\n",
    "fracs_aml_by_src = {}\n",
    "for src in sources:\n",
    "    fracs_aml_by_src[src] = [v for k, v in fracs_aml.items() if k[:len(src)] == src]"
   ]
  },
  {
   "cell_type": "code",
   "execution_count": 108,
   "metadata": {
    "collapsed": false,
    "deletable": true,
    "editable": true
   },
   "outputs": [
    {
     "name": "stdout",
     "output_type": "stream",
     "text": [
      "Number of ALL samples with prefix THR: 66\n"
     ]
    },
    {
     "data": {
      "image/png": "[encoded data removed]",
      "text/plain": [
       "<matplotlib.figure.Figure at 0x7f30fca00048>"
      ]
     },
     "metadata": {},
     "output_type": "display_data"
    },
    {
     "name": "stdout",
     "output_type": "stream",
     "text": [
      "Number of ALL samples with prefix TH0: 31\n"
     ]
    },
    {
     "data": {
      "image/png": "[encoded data removed]",
      "text/plain": [
       "<matplotlib.figure.Figure at 0x7f30fff166d8>"
      ]
     },
     "metadata": {},
     "output_type": "display_data"
    },
    {
     "name": "stdout",
     "output_type": "stream",
     "text": [
      "Number of ALL samples with prefix TARGET: 149\n"
     ]
    },
    {
     "data": {
      "image/png": "[encoded data removed]",
      "text/plain": [
       "<matplotlib.figure.Figure at 0x7f312bb47518>"
      ]
     },
     "metadata": {},
     "output_type": "display_data"
    }
   ],
   "source": [
    "for src in sources:\n",
    "    print('Number of ALL samples with prefix %s:' % src, len(fracs_aml_by_src[src]))\n",
    "    plt.hist(fracs_aml_by_src[src], bins=20, range=(0, 1.0))\n",
    "    plt.title('Fraction AML in correlated samples from source %s' % src)\n",
    "    plt.xlabel('Fraction AML in top 95% most correlated samples')\n",
    "    plt.ylabel('Histogram frequency')\n",
    "    plt.show()"
   ]
  },
  {
   "cell_type": "markdown",
   "metadata": {
    "deletable": true,
    "editable": true
   },
   "source": [
    "## Is there a correlation between data source and prep type?"
   ]
  },
  {
   "cell_type": "code",
   "execution_count": 23,
   "metadata": {
    "collapsed": true,
    "deletable": true,
    "editable": true
   },
   "outputs": [],
   "source": [
    "samples_by_src = {}\n",
    "for src in sources:\n",
    "    samples_by_src[src] = [k for k in fracs_aml.keys() if k[:len(src)] == src]"
   ]
  },
  {
   "cell_type": "markdown",
   "metadata": {},
   "source": [
    "## Overall prep type ratios from different sources"
   ]
  },
  {
   "cell_type": "code",
   "execution_count": 65,
   "metadata": {
    "collapsed": true
   },
   "outputs": [],
   "source": [
    "def get_prep_types(src):\n",
    "    prep_types = []\n",
    "    for s in prep_df.index:\n",
    "        if src in s:\n",
    "            t = prep_df.loc[s]['libSelType']\n",
    "            if type(t) == pd.Series:\n",
    "                t = t.iloc[0]\n",
    "            prep_types.append(t)\n",
    "    prep_types = pd.Series(prep_types)\n",
    "    return prep_types"
   ]
  },
  {
   "cell_type": "code",
   "execution_count": 68,
   "metadata": {
    "collapsed": false
   },
   "outputs": [
    {
     "name": "stdout",
     "output_type": "stream",
     "text": [
      "Source: TARGET\n",
      "polyASelection    1053\n",
      "riboDepletion       13\n",
      "dtype: int64\n",
      "\n",
      "Source: TH0\n",
      "polyASelection            194\n",
      "riboDepletion              60\n",
      "presumed riboDepletion     32\n",
      "unknown                     9\n",
      "dtype: int64\n",
      "\n",
      "Source: THR\n",
      "polyASelection    650\n",
      "riboDepletion     118\n",
      "exomeSelection      8\n",
      "dtype: int64\n"
     ]
    }
   ],
   "source": [
    "print('Source: TARGET')\n",
    "print(get_prep_types('TARGET').value_counts())\n",
    "print('\\nSource: TH0')\n",
    "print(get_prep_types('TH0').value_counts())\n",
    "print('\\nSource: THR')\n",
    "print(get_prep_types('THR').value_counts())"
   ]
  },
  {
   "cell_type": "markdown",
   "metadata": {},
   "source": [
    "## Prep types for samples highly correlated to ALL (TARGET samples not in prep df)"
   ]
  },
  {
   "cell_type": "code",
   "execution_count": 70,
   "metadata": {
    "collapsed": true
   },
   "outputs": [],
   "source": [
    "def get_prep_types_samples(src):\n",
    "    samples = prep_df.loc[samples_by_src[src]]\n",
    "    return samples['libSelType']"
   ]
  },
  {
   "cell_type": "code",
   "execution_count": 71,
   "metadata": {
    "collapsed": false,
    "scrolled": false
   },
   "outputs": [
    {
     "name": "stdout",
     "output_type": "stream",
     "text": [
      "Source: TH0\n",
      "riboDepletion             16\n",
      "unknown                    6\n",
      "polyASelection             5\n",
      "presumed riboDepletion     4\n",
      "Name: libSelType, dtype: int64\n",
      "\n",
      "Source: THR\n",
      "polyASelection    66\n",
      "Name: libSelType, dtype: int64\n"
     ]
    }
   ],
   "source": [
    "print('Source: TH0')\n",
    "print(get_prep_types_samples('TH0').value_counts())\n",
    "\n",
    "print('\\nSource: THR')\n",
    "print(get_prep_types_samples('THR').value_counts())"
   ]
  },
  {
   "cell_type": "code",
   "execution_count": 113,
   "metadata": {
    "collapsed": false
   },
   "outputs": [],
   "source": [
    "def plot_frac_aml_by_prep(src):\n",
    "    samples = samples_by_src[src]\n",
    "    prep_types = prep_df.loc[samples]['libSelType']\n",
    "    corr_by_prep = {}\n",
    "    for s, t in zip(samples, prep_types):\n",
    "        if t not in corr_by_prep:\n",
    "            corr_by_prep[t] = []\n",
    "        corr_by_prep[t].append(fracs_aml[s])\n",
    "    for t, corrs in corr_by_prep.items():\n",
    "        print('Number of ALL samples prep`d with %s: %d' % (t, len(corrs)))\n",
    "        plt.hist(corrs, bins=20, range=(0, 1.0))\n",
    "        plt.title('Fraction AML in correlated samples prep`d by %s' % t)\n",
    "        plt.xlabel('Fraction AML in top 95% correlated samples')\n",
    "        plt.ylabel('Histogram frequency')\n",
    "        plt.show()"
   ]
  },
  {
   "cell_type": "code",
   "execution_count": 114,
   "metadata": {
    "collapsed": false
   },
   "outputs": [
    {
     "name": "stdout",
     "output_type": "stream",
     "text": [
      "Source: TH0\n",
      "Number of ALL samples prep`d with riboDepletion: 16\n"
     ]
    },
    {
     "data": {
      "image/png": "[encoded data removed]",
      "text/plain": [
       "<matplotlib.figure.Figure at 0x7f3129797748>"
      ]
     },
     "metadata": {},
     "output_type": "display_data"
    },
    {
     "name": "stdout",
     "output_type": "stream",
     "text": [
      "Number of ALL samples prep`d with polyASelection: 5\n"
     ]
    },
    {
     "data": {
      "image/png": "[encoded data removed]",
      "text/plain": [
       "<matplotlib.figure.Figure at 0x7f3126c57a20>"
      ]
     },
     "metadata": {},
     "output_type": "display_data"
    },
    {
     "name": "stdout",
     "output_type": "stream",
     "text": [
      "Number of ALL samples prep`d with presumed riboDepletion: 4\n"
     ]
    },
    {
     "data": {
      "image/png": "[encoded data removed]",
      "text/plain": [
       "<matplotlib.figure.Figure at 0x7f3126ffe160>"
      ]
     },
     "metadata": {},
     "output_type": "display_data"
    },
    {
     "name": "stdout",
     "output_type": "stream",
     "text": [
      "Number of ALL samples prep`d with unknown: 6\n"
     ]
    },
    {
     "data": {
      "image/png": "[encoded data removed]",
      "text/plain": [
       "<matplotlib.figure.Figure at 0x7f3126ea1da0>"
      ]
     },
     "metadata": {},
     "output_type": "display_data"
    },
    {
     "name": "stdout",
     "output_type": "stream",
     "text": [
      "Source: THR\n",
      "Number of ALL samples prep`d with polyASelection: 66\n"
     ]
    },
    {
     "data": {
      "image/png": "[encoded data removed]",
      "text/plain": [
       "<matplotlib.figure.Figure at 0x7f3129270668>"
      ]
     },
     "metadata": {},
     "output_type": "display_data"
    }
   ],
   "source": [
    "print('Source: TH0')\n",
    "plot_frac_aml_by_prep('TH0')\n",
    "print('Source: THR')\n",
    "plot_frac_aml_by_prep('THR')"
   ]
  },
  {
   "cell_type": "markdown",
   "metadata": {
    "deletable": true,
    "editable": true
   },
   "source": [
    "# 5.\n",
    "\n",
    "Find the samples of any type that are most correlated with AML (but not AML themselves)."
   ]
  },
  {
   "cell_type": "code",
   "execution_count": null,
   "metadata": {
    "collapsed": true,
    "deletable": true,
    "editable": true
   },
   "outputs": [],
   "source": []
  }
 ],
 "metadata": {
  "kernelspec": {
   "display_name": "Python 3",
   "language": "python",
   "name": "python3"
  },
  "language_info": {
   "codemirror_mode": {
    "name": "ipython",
    "version": 3
   },
   "file_extension": ".py",
   "mimetype": "text/x-python",
   "name": "python",
   "nbconvert_exporter": "python",
   "pygments_lexer": "ipython3",
   "version": "3.5.2"
  }
 },
 "nbformat": 4,
 "nbformat_minor": 2
}
