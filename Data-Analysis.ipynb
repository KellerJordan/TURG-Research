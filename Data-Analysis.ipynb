{
 "cells": [
  {
   "cell_type": "markdown",
   "metadata": {},
   "source": [
    "# Data-Analysis\n",
    "\n",
    "Import and analyze data"
   ]
  },
  {
   "cell_type": "code",
   "execution_count": 1,
   "metadata": {
    "collapsed": true,
    "deletable": true,
    "editable": true
   },
   "outputs": [],
   "source": [
    "import pandas as pd\n",
    "import numpy as np"
   ]
  },
  {
   "cell_type": "code",
   "execution_count": 112,
   "metadata": {
    "collapsed": false,
    "deletable": true,
    "editable": true
   },
   "outputs": [
    {
     "name": "stdout",
     "output_type": "stream",
     "text": [
      "CPU times: user 24 ms, sys: 4 ms, total: 28 ms\n",
      "Wall time: 26.1 ms\n"
     ]
    }
   ],
   "source": [
    "%%time\n",
    "prep_path = 'data/TreehouseCompendiumSamples_LibraryPrep.tsv'\n",
    "prep_df = pd.read_csv(prep_path, sep='\\t', index_col=0)"
   ]
  },
  {
   "cell_type": "code",
   "execution_count": 3,
   "metadata": {
    "collapsed": false,
    "deletable": true,
    "editable": true,
    "scrolled": true
   },
   "outputs": [
    {
     "name": "stdout",
     "output_type": "stream",
     "text": [
      "CPU times: user 2min 26s, sys: 22.4 s, total: 2min 48s\n",
      "Wall time: 2min 49s\n"
     ]
    }
   ],
   "source": [
    "%%time\n",
    "corr_path = 'data/v5_all_by_all.2018-02-04.tsv'\n",
    "corr_df = pd.read_csv(corr_path, sep='\\t', index_col=0)"
   ]
  },
  {
   "cell_type": "code",
   "execution_count": 116,
   "metadata": {
    "collapsed": false,
    "deletable": true,
    "editable": true
   },
   "outputs": [
    {
     "name": "stdout",
     "output_type": "stream",
     "text": [
      "CPU times: user 132 ms, sys: 0 ns, total: 132 ms\n",
      "Wall time: 129 ms\n"
     ]
    }
   ],
   "source": [
    "%%time\n",
    "meta_path = 'data/clinical.tsv'\n",
    "meta_df = pd.read_csv(meta_path, sep='\\t', index_col=0)"
   ]
  },
  {
   "cell_type": "code",
   "execution_count": 82,
   "metadata": {
    "collapsed": false
   },
   "outputs": [
    {
     "name": "stdout",
     "output_type": "stream",
     "text": [
      "CPU times: user 60 ms, sys: 12 ms, total: 72 ms\n",
      "Wall time: 66.1 ms\n"
     ]
    }
   ],
   "source": [
    "%%time\n",
    "type_path = 'data/DiseaseAnnotations_2018-04_Labels.csv'\n",
    "type_df = pd.read_csv(type_path, sep=',', index_col=1)"
   ]
  },
  {
   "cell_type": "code",
   "execution_count": 10,
   "metadata": {
    "collapsed": false,
    "deletable": true,
    "editable": true,
    "scrolled": true
   },
   "outputs": [
    {
     "name": "stdout",
     "output_type": "stream",
     "text": [
      "polyASelection            11505\n",
      "riboDepletion               191\n",
      "presumed riboDepletion       32\n",
      "unknown                       9\n",
      "exomeSelection                8\n",
      "Name: libSelType, dtype: int64\n",
      "NA 1003\n"
     ]
    }
   ],
   "source": [
    "print(prep_df['libSelType'].value_counts())\n",
    "print('NA', len(prep_df['libSelType']) - prep_df['libSelType'].count())"
   ]
  },
  {
   "cell_type": "code",
   "execution_count": 51,
   "metadata": {
    "collapsed": false
   },
   "outputs": [
    {
     "name": "stdout",
     "output_type": "stream",
     "text": [
      "12748 11340 11340\n"
     ]
    }
   ],
   "source": [
    "print(len(prep_df), len(meta_df), len(corr_df))"
   ]
  },
  {
   "cell_type": "markdown",
   "metadata": {},
   "source": [
    "### [?] Duplicate Entries in library prep tsv"
   ]
  },
  {
   "cell_type": "code",
   "execution_count": 61,
   "metadata": {
    "collapsed": false
   },
   "outputs": [
    {
     "data": {
      "text/html": [
       "<div>\n",
       "<table border=\"1\" class=\"dataframe\">\n",
       "  <thead>\n",
       "    <tr style=\"text-align: right;\">\n",
       "      <th></th>\n",
       "      <th>UMENDcount</th>\n",
       "      <th>libSelType</th>\n",
       "    </tr>\n",
       "    <tr>\n",
       "      <th>THid</th>\n",
       "      <th></th>\n",
       "      <th></th>\n",
       "    </tr>\n",
       "  </thead>\n",
       "  <tbody>\n",
       "    <tr>\n",
       "      <th>TCGA-AB-2860-03</th>\n",
       "      <td>NaN</td>\n",
       "      <td>polyASelection</td>\n",
       "    </tr>\n",
       "    <tr>\n",
       "      <th>TCGA-AB-2860-03</th>\n",
       "      <td>NaN</td>\n",
       "      <td>NaN</td>\n",
       "    </tr>\n",
       "  </tbody>\n",
       "</table>\n",
       "</div>"
      ],
      "text/plain": [
       "                 UMENDcount      libSelType\n",
       "THid                                       \n",
       "TCGA-AB-2860-03         NaN  polyASelection\n",
       "TCGA-AB-2860-03         NaN             NaN"
      ]
     },
     "execution_count": 61,
     "metadata": {},
     "output_type": "execute_result"
    }
   ],
   "source": [
    "prep_df.loc['TCGA-AB-2860-03']"
   ]
  },
  {
   "cell_type": "code",
   "execution_count": 76,
   "metadata": {
    "collapsed": false
   },
   "outputs": [
    {
     "name": "stdout",
     "output_type": "stream",
     "text": [
      "833\n",
      "1666\n"
     ]
    }
   ],
   "source": [
    "print(sum(prep_df.index.duplicated()))\n",
    "print(sum(prep_df.index.duplicated(False)))\n",
    "assert 1666 == 2 * 833"
   ]
  },
  {
   "cell_type": "markdown",
   "metadata": {},
   "source": [
    "There are 833 rows which are duplicated exactly once in the prep tsv."
   ]
  },
  {
   "cell_type": "markdown",
   "metadata": {},
   "source": [
    "### Method to get correlations from TSV or JSON"
   ]
  },
  {
   "cell_type": "code",
   "execution_count": 46,
   "metadata": {
    "collapsed": false
   },
   "outputs": [],
   "source": [
    "def get_correlations(sample):\n",
    "    if sample in corr_df.index:\n",
    "        corr_row = corr_df.loc[sample]\n",
    "        corr_dict = {s: c for s, c in zip(corr_df.index, corr_row)}\n",
    "    else:\n",
    "        with open('data/%s/2.0.json' % sample, 'r') as f:\n",
    "            corr_dict = json.loads(f.read())['correlations_vs_focus_sample']\n",
    "    return corr_dict"
   ]
  },
  {
   "cell_type": "markdown",
   "metadata": {
    "deletable": true,
    "editable": true
   },
   "source": [
    "# Experiments/Results"
   ]
  },
  {
   "cell_type": "code",
   "execution_count": 49,
   "metadata": {
    "collapsed": true
   },
   "outputs": [],
   "source": [
    "sample_A = 'TH01_0121_S01'\n",
    "sample_B = 'TH01_0123_S01'"
   ]
  },
  {
   "cell_type": "markdown",
   "metadata": {
    "deletable": true,
    "editable": true
   },
   "source": [
    "# 1.\n",
    "\n",
    "Recheck results: are most similar samples still AML in v5?"
   ]
  },
  {
   "cell_type": "markdown",
   "metadata": {
    "deletable": true,
    "editable": true
   },
   "source": [
    "### TH01_0121_S01\n",
    "\n",
    "https://jupyter.treehouse.gi.ucsc.edu/user/kellerjordan/files/TURG-Research/data/TH01_0121_S01/Summary.html\n",
    "\n",
    "Of `6` most correlated samples, `3/6 = 0.5` were AML."
   ]
  },
  {
   "cell_type": "markdown",
   "metadata": {
    "deletable": true,
    "editable": true
   },
   "source": [
    "### TH01_0123_S01\n",
    "\n",
    "https://jupyter.treehouse.gi.ucsc.edu/user/kellerjordan/files/TURG-Research/data/TH01_0123_S01/Summary.html\n",
    "\n",
    "Of `6` most correlated samples, `6/6 = 1.0` were AML."
   ]
  },
  {
   "cell_type": "markdown",
   "metadata": {
    "deletable": true,
    "editable": true
   },
   "source": [
    "# 2.\n",
    "\n",
    "For each, what fraction of top 95% (corr > 0.87) were AML?"
   ]
  },
  {
   "cell_type": "code",
   "execution_count": 101,
   "metadata": {
    "collapsed": false
   },
   "outputs": [],
   "source": [
    "def top_samples(sample, top_95=0.87):\n",
    "    correlations = get_correlations(sample)\n",
    "    top_samples = []\n",
    "    for s, c in correlations.items():\n",
    "        if c > top_95:\n",
    "            top_samples.append(s)\n",
    "    return top_samples\n",
    "\n",
    "def get_prefix(sample):\n",
    "    last_pos = max(sample.rfind('_'), sample.rfind('-'))\n",
    "    return sample[:last_pos]\n",
    "\n",
    "def get_prefixes(samples):\n",
    "    return [get_prefix(s) for s in samples]\n",
    "\n",
    "def fraction_aml(sample):\n",
    "    corr_samples = top_samples(sample)\n",
    "    prefix_corr_samples = get_prefixes(corr_samples)\n",
    "    corr_diseases = type_df.loc[prefix_corr_samples]['Diagnosis/Disease']\n",
    "    disease_counts = corr_diseases.value_counts()\n",
    "    return disease_counts['acute myeloid leukemia'] / len(corr_samples)"
   ]
  },
  {
   "cell_type": "code",
   "execution_count": 104,
   "metadata": {
    "collapsed": false
   },
   "outputs": [
    {
     "name": "stdout",
     "output_type": "stream",
     "text": [
      "Results:\n",
      "TH01_0121_S01 0.74358974359\n",
      "TH01_0123_S01 0.590476190476\n"
     ]
    }
   ],
   "source": [
    "print('Results:')\n",
    "print(sample_A, fraction_aml(sample_A))\n",
    "print(sample_B, fraction_aml(sample_B))"
   ]
  },
  {
   "cell_type": "markdown",
   "metadata": {},
   "source": [
    "# 3.\n",
    "\n",
    "Are the top most correlated samples still places in the AML cluster on tumormap?"
   ]
  },
  {
   "cell_type": "markdown",
   "metadata": {},
   "source": [
    "https://tumormap.ucsc.edu/?p=CKCC/v5&node=TH26_0657_S04,TH26_0657_S05,TH26_0657_S03,TCGA-AB-2915-03,TCGA-AB-2868-03,TCGA-AB-2952-03&x=24,25,24,346,346,344&y=323,321,322,40,42,40\n",
    "\n",
    "\n",
    "https://tumormap.ucsc.edu/?p=CKCC/v5&node=TCGA-AB-2934-03,TCGA-AB-2890-03,TCGA-AB-2927-03,TCGA-AB-2936-03,TCGA-AB-2915-03,TCGA-AB-2868-03&x=340,349,350,349,346,346&y=44,43,44,48,40,42"
   ]
  },
  {
   "cell_type": "markdown",
   "metadata": {},
   "source": [
    "For the top six most correlated samples in each case, all that were labeled AML are placed in the AML cluster. Those that are labeled ALL are not."
   ]
  },
  {
   "cell_type": "markdown",
   "metadata": {},
   "source": [
    "# 4.\n",
    "\n",
    "How correlated are other ALL samples with AML? Specifically, what impact does RiboD preparation have on their correlation? Use the `type_df` to find ALL samples of interest.\n",
    "\n",
    "This section is the only one where preparation type matters, as in every other case I search only in the correlation matrix which contains only PolyA-prepared samples."
   ]
  },
  {
   "cell_type": "code",
   "execution_count": null,
   "metadata": {
    "collapsed": true
   },
   "outputs": [],
   "source": []
  },
  {
   "cell_type": "markdown",
   "metadata": {},
   "source": [
    "# 5.\n",
    "\n",
    "Find the samples of any type that are most correlated with AML (but not AML themselves)."
   ]
  },
  {
   "cell_type": "code",
   "execution_count": null,
   "metadata": {
    "collapsed": true
   },
   "outputs": [],
   "source": []
  }
 ],
 "metadata": {
  "kernelspec": {
   "display_name": "Python 3",
   "language": "python",
   "name": "python3"
  },
  "language_info": {
   "codemirror_mode": {
    "name": "ipython",
    "version": 3
   },
   "file_extension": ".py",
   "mimetype": "text/x-python",
   "name": "python",
   "nbconvert_exporter": "python",
   "pygments_lexer": "ipython3",
   "version": "3.5.2"
  }
 },
 "nbformat": 4,
 "nbformat_minor": 2
}
