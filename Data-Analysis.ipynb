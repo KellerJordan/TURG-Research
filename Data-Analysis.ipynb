{
 "cells": [
  {
   "cell_type": "code",
   "execution_count": 1,
   "metadata": {
    "collapsed": true,
    "deletable": true,
    "editable": true
   },
   "outputs": [],
   "source": [
    "import pandas as pd\n",
    "import numpy as np"
   ]
  },
  {
   "cell_type": "code",
   "execution_count": 2,
   "metadata": {
    "collapsed": false
   },
   "outputs": [
    {
     "name": "stdout",
     "output_type": "stream",
     "text": [
      "CPU times: user 424 ms, sys: 620 ms, total: 1.04 s\n",
      "Wall time: 640 ms\n"
     ]
    }
   ],
   "source": [
    "%%time\n",
    "prep_path = 'data/TreehouseCompentiumSamples_LibraryPrep.tsv'\n",
    "prep_df = pd.read_csv(prep_path, sep='\\t', index_col=0)"
   ]
  },
  {
   "cell_type": "code",
   "execution_count": 3,
   "metadata": {
    "collapsed": false,
    "deletable": true,
    "editable": true
   },
   "outputs": [
    {
     "name": "stdout",
     "output_type": "stream",
     "text": [
      "CPU times: user 2min 26s, sys: 22.4 s, total: 2min 48s\n",
      "Wall time: 2min 49s\n"
     ]
    }
   ],
   "source": [
    "%%time\n",
    "corr_path = 'data/v5_all_by_all.2018-02-04.tsv'\n",
    "corr_df = pd.read_csv(corr_path, sep='\\t', index_col=0)"
   ]
  },
  {
   "cell_type": "code",
   "execution_count": 4,
   "metadata": {
    "collapsed": false
   },
   "outputs": [
    {
     "name": "stdout",
     "output_type": "stream",
     "text": [
      "CPU times: user 1.04 s, sys: 56 ms, total: 1.09 s\n",
      "Wall time: 1.05 s\n"
     ]
    }
   ],
   "source": [
    "%%time\n",
    "meta_path = 'data/clinical.tsv'\n",
    "meta_df = pd.read_csv(meta_path, sep='\\t', index_col=0)"
   ]
  },
  {
   "cell_type": "code",
   "execution_count": 10,
   "metadata": {
    "collapsed": false
   },
   "outputs": [
    {
     "name": "stdout",
     "output_type": "stream",
     "text": [
      "polyASelection            11505\n",
      "riboDepletion               191\n",
      "presumed riboDepletion       32\n",
      "unknown                       9\n",
      "exomeSelection                8\n",
      "Name: libSelType, dtype: int64\n",
      "NA 1003\n"
     ]
    }
   ],
   "source": [
    "print(prep_df['libSelType'].value_counts())\n",
    "print('NA', len(prep_df['libSelType']) - prep_df['libSelType'].count())"
   ]
  },
  {
   "cell_type": "markdown",
   "metadata": {},
   "source": [
    "# Experiments/Results"
   ]
  },
  {
   "cell_type": "code",
   "execution_count": 13,
   "metadata": {
    "collapsed": true
   },
   "outputs": [],
   "source": [
    "sample_A = 'TH01_0121_S01'\n",
    "sample_B = 'TH01_0123_S01'"
   ]
  },
  {
   "cell_type": "markdown",
   "metadata": {},
   "source": [
    "# 1.\n",
    "\n",
    "Recheck results: are most similar samples still AML in v5?"
   ]
  },
  {
   "cell_type": "markdown",
   "metadata": {},
   "source": [
    "### TH01_0121_S01\n",
    "\n",
    "https://jupyter.treehouse.gi.ucsc.edu/user/kellerjordan/files/TURG-Research/data/TH01_0121_S01/Summary.html\n",
    "\n",
    "Of `6` most correlated samples, `3/6 = 0.5` were AML."
   ]
  },
  {
   "cell_type": "markdown",
   "metadata": {},
   "source": [
    "### TH01_0123_S01\n",
    "\n",
    "https://jupyter.treehouse.gi.ucsc.edu/user/kellerjordan/files/TURG-Research/data/TH01_0123_S01/Summary.html\n",
    "\n",
    "Of `6` most correlated samples, `6/6 = 1.0` were AML."
   ]
  },
  {
   "cell_type": "markdown",
   "metadata": {},
   "source": [
    "# 2.\n",
    "\n",
    "For each, what fraction of top 95% (corr > 0.87) were AML?"
   ]
  },
  {
   "cell_type": "markdown",
   "metadata": {},
   "source": [
    "# Issue: the two samples are not present in correlation or clinical tsv"
   ]
  },
  {
   "cell_type": "code",
   "execution_count": 28,
   "metadata": {
    "collapsed": false
   },
   "outputs": [
    {
     "name": "stdout",
     "output_type": "stream",
     "text": [
      "TH02_0089_S01\n",
      "TH06_0284_S01\n",
      "TH03_0038_S01\n",
      "TH03_0285_S01\n",
      "TH02_0074_S01\n",
      "TH06_0619_S01\n",
      "TH02_0090_S01\n",
      "TH03_0003_S03\n",
      "TH03_0003_S01\n",
      "TH03_0003_S04\n",
      "TH02_0082_S01\n",
      "TH02_0081_S01\n",
      "TH03_0117_S01\n",
      "TH06_0631_S01\n",
      "TH06_0622_S01\n",
      "TH02_0083_S01\n",
      "TH06_0621_S01\n",
      "TH02_0087_S02\n",
      "TH03_0288_S01\n",
      "TH02_0653_S01\n",
      "TH06_0626_S01\n",
      "TH06_0610_S01\n",
      "TH03_0015_S02\n",
      "TH06_0611_S01\n",
      "TH06_0615_S01\n",
      "TH03_0004_S03\n",
      "TH03_0004_S02\n",
      "TH03_0004_S04\n",
      "TH03_0294_S02\n",
      "TH06_0617_S01\n",
      "TH06_0646_S01\n",
      "TH02_0075_S01\n",
      "TH03_0013_S01\n",
      "TH03_0013_S02\n",
      "TH03_0290_S01\n",
      "TH02_0076_S01\n",
      "TH03_0287_S01\n",
      "TH06_0629_S01\n",
      "TH06_0625_S01\n",
      "TH06_0612_S01\n",
      "TH03_0291_S01\n",
      "TH02_0085_S01\n",
      "TH02_0092_S01\n",
      "TH03_0016_S01\n",
      "TH03_0018_S02\n",
      "TH03_0140_S01\n",
      "TH03_0018_S01\n",
      "TH02_0079_S01\n",
      "TH03_0006_S03\n",
      "TH03_0006_S01\n",
      "TH03_0106_S01\n",
      "TH03_0143_S02\n",
      "TH03_0143_S01\n",
      "TH02_0088_S01\n",
      "TH04_0021_S01\n",
      "TH06_0632_S01\n",
      "TH06_0624_S01\n",
      "TH03_0146_S01\n",
      "TH03_0118_S01\n",
      "TH03_0027_S01\n",
      "TH06_0648_S01\n",
      "TH03_0020_S01\n",
      "TH06_0620_S01\n",
      "TH03_0029_S01\n",
      "TH02_0084_S01\n",
      "TH06_0618_S01\n",
      "TH06_0634_S01\n",
      "TH03_0025_S02\n",
      "TH02_0086_S01\n",
      "TH03_0289_S01\n",
      "TH03_0139_S01\n",
      "TH03_0113_S01\n",
      "TH03_0113_S02\n",
      "TH03_0008_S01\n",
      "TH06_0623_S01\n",
      "TH02_0095_S01\n",
      "TH06_0616_S01\n",
      "TH02_0096_S01\n",
      "TH03_0148_S01\n",
      "TH03_0296_S04\n",
      "TH03_0296_S02\n",
      "TH03_0296_S03\n",
      "TH03_0296_S01\n",
      "TH02_0087_S01\n",
      "TH03_0012_S01\n",
      "TH03_0012_S02\n",
      "TH02_0091_S01\n",
      "TH06_0627_S01\n",
      "TH03_0104_S01\n",
      "TH06_0613_S01\n",
      "TH03_0141_S01\n",
      "TH03_0017_S01\n",
      "TH03_0011_S01\n",
      "TH03_0112_S01\n",
      "TH03_0112_S02\n",
      "TH03_0116_S01\n",
      "TH03_0019_S01\n",
      "TH03_0014_S01\n",
      "TH03_0010_S02\n",
      "TH03_0010_S01\n",
      "TH03_0105_S01\n",
      "TH03_0286_S01\n",
      "TH02_0656_S01\n",
      "TH03_0115_S01\n",
      "TH02_0652_S01\n",
      "TH06_0630_S01\n",
      "TH06_0645_S01\n",
      "TH06_0649_S01\n",
      "TH03_0160_S01\n",
      "TH02_0651_S01\n",
      "TH02_0080_S01\n",
      "TH02_0077_S01\n",
      "TH02_0093_S01\n",
      "TH03_0103_S01\n",
      "TH03_0149_S01\n",
      "TH03_0015_S01\n",
      "TH02_0654_S01\n",
      "TH03_0159_S02\n",
      "TH03_0159_S01\n",
      "TH03_0114_S01\n",
      "TH03_0157_S01\n",
      "TH06_0613_S02\n",
      "TH03_0022_S01\n",
      "TH06_0647_S01\n",
      "TH02_0078_S01\n",
      "TH02_0094_S01\n",
      "TH03_0107_S01\n",
      "TH03_0144_S01\n",
      "TH03_0017_S02\n",
      "TH06_0633_S01\n",
      "TH03_0005_S01\n",
      "TH06_0628_S01\n",
      "TH03_0024_S01\n",
      "TH03_0156_S01\n"
     ]
    }
   ],
   "source": [
    "# plenty of TH0*\n",
    "for sample in corr_df.index:\n",
    "    if 'TH0' in sample:\n",
    "        print(sample)"
   ]
  },
  {
   "cell_type": "code",
   "execution_count": 29,
   "metadata": {
    "collapsed": true
   },
   "outputs": [],
   "source": [
    "# but no TH01\n",
    "for sample in corr_df.index:\n",
    "    if 'TH01' in sample:\n",
    "        print(sample)"
   ]
  },
  {
   "cell_type": "code",
   "execution_count": 30,
   "metadata": {
    "collapsed": false
   },
   "outputs": [
    {
     "ename": "KeyError",
     "evalue": "'the label [TH01_0121_S01] is not in the [index]'",
     "output_type": "error",
     "traceback": [
      "\u001b[0;31m---------------------------------------------------------------------------\u001b[0m",
      "\u001b[0;31mKeyError\u001b[0m                                  Traceback (most recent call last)",
      "\u001b[0;32m/opt/conda/lib/python3.5/site-packages/pandas/core/indexing.py\u001b[0m in \u001b[0;36m_has_valid_type\u001b[0;34m(self, key, axis)\u001b[0m\n\u001b[1;32m   1410\u001b[0m                 \u001b[0;32mif\u001b[0m \u001b[0mkey\u001b[0m \u001b[0;32mnot\u001b[0m \u001b[0;32min\u001b[0m \u001b[0max\u001b[0m\u001b[0;34m:\u001b[0m\u001b[0;34m\u001b[0m\u001b[0m\n\u001b[0;32m-> 1411\u001b[0;31m                     \u001b[0merror\u001b[0m\u001b[0;34m(\u001b[0m\u001b[0;34m)\u001b[0m\u001b[0;34m\u001b[0m\u001b[0m\n\u001b[0m\u001b[1;32m   1412\u001b[0m             \u001b[0;32mexcept\u001b[0m \u001b[0mTypeError\u001b[0m \u001b[0;32mas\u001b[0m \u001b[0me\u001b[0m\u001b[0;34m:\u001b[0m\u001b[0;34m\u001b[0m\u001b[0m\n",
      "\u001b[0;32m/opt/conda/lib/python3.5/site-packages/pandas/core/indexing.py\u001b[0m in \u001b[0;36merror\u001b[0;34m()\u001b[0m\n\u001b[1;32m   1405\u001b[0m                 raise KeyError(\"the label [%s] is not in the [%s]\" %\n\u001b[0;32m-> 1406\u001b[0;31m                                (key, self.obj._get_axis_name(axis)))\n\u001b[0m\u001b[1;32m   1407\u001b[0m \u001b[0;34m\u001b[0m\u001b[0m\n",
      "\u001b[0;31mKeyError\u001b[0m: 'the label [TH01_0121_S01] is not in the [index]'",
      "\nDuring handling of the above exception, another exception occurred:\n",
      "\u001b[0;31mKeyError\u001b[0m                                  Traceback (most recent call last)",
      "\u001b[0;32m<ipython-input-30-a1743da224b0>\u001b[0m in \u001b[0;36m<module>\u001b[0;34m()\u001b[0m\n\u001b[0;32m----> 1\u001b[0;31m \u001b[0mcorr_A\u001b[0m \u001b[0;34m=\u001b[0m \u001b[0mcorr_df\u001b[0m\u001b[0;34m.\u001b[0m\u001b[0mloc\u001b[0m\u001b[0;34m[\u001b[0m\u001b[0;34m'TH01_0121_S01'\u001b[0m\u001b[0;34m]\u001b[0m\u001b[0;34m\u001b[0m\u001b[0m\n\u001b[0m",
      "\u001b[0;32m/opt/conda/lib/python3.5/site-packages/pandas/core/indexing.py\u001b[0m in \u001b[0;36m__getitem__\u001b[0;34m(self, key)\u001b[0m\n\u001b[1;32m   1310\u001b[0m             \u001b[0;32mreturn\u001b[0m \u001b[0mself\u001b[0m\u001b[0;34m.\u001b[0m\u001b[0m_getitem_tuple\u001b[0m\u001b[0;34m(\u001b[0m\u001b[0mkey\u001b[0m\u001b[0;34m)\u001b[0m\u001b[0;34m\u001b[0m\u001b[0m\n\u001b[1;32m   1311\u001b[0m         \u001b[0;32melse\u001b[0m\u001b[0;34m:\u001b[0m\u001b[0;34m\u001b[0m\u001b[0m\n\u001b[0;32m-> 1312\u001b[0;31m             \u001b[0;32mreturn\u001b[0m \u001b[0mself\u001b[0m\u001b[0;34m.\u001b[0m\u001b[0m_getitem_axis\u001b[0m\u001b[0;34m(\u001b[0m\u001b[0mkey\u001b[0m\u001b[0;34m,\u001b[0m \u001b[0maxis\u001b[0m\u001b[0;34m=\u001b[0m\u001b[0;36m0\u001b[0m\u001b[0;34m)\u001b[0m\u001b[0;34m\u001b[0m\u001b[0m\n\u001b[0m\u001b[1;32m   1313\u001b[0m \u001b[0;34m\u001b[0m\u001b[0m\n\u001b[1;32m   1314\u001b[0m     \u001b[0;32mdef\u001b[0m \u001b[0m_getitem_axis\u001b[0m\u001b[0;34m(\u001b[0m\u001b[0mself\u001b[0m\u001b[0;34m,\u001b[0m \u001b[0mkey\u001b[0m\u001b[0;34m,\u001b[0m \u001b[0maxis\u001b[0m\u001b[0;34m=\u001b[0m\u001b[0;36m0\u001b[0m\u001b[0;34m)\u001b[0m\u001b[0;34m:\u001b[0m\u001b[0;34m\u001b[0m\u001b[0m\n",
      "\u001b[0;32m/opt/conda/lib/python3.5/site-packages/pandas/core/indexing.py\u001b[0m in \u001b[0;36m_getitem_axis\u001b[0;34m(self, key, axis)\u001b[0m\n\u001b[1;32m   1480\u001b[0m \u001b[0;34m\u001b[0m\u001b[0m\n\u001b[1;32m   1481\u001b[0m         \u001b[0;31m# fall thru to straight lookup\u001b[0m\u001b[0;34m\u001b[0m\u001b[0;34m\u001b[0m\u001b[0m\n\u001b[0;32m-> 1482\u001b[0;31m         \u001b[0mself\u001b[0m\u001b[0;34m.\u001b[0m\u001b[0m_has_valid_type\u001b[0m\u001b[0;34m(\u001b[0m\u001b[0mkey\u001b[0m\u001b[0;34m,\u001b[0m \u001b[0maxis\u001b[0m\u001b[0;34m)\u001b[0m\u001b[0;34m\u001b[0m\u001b[0m\n\u001b[0m\u001b[1;32m   1483\u001b[0m         \u001b[0;32mreturn\u001b[0m \u001b[0mself\u001b[0m\u001b[0;34m.\u001b[0m\u001b[0m_get_label\u001b[0m\u001b[0;34m(\u001b[0m\u001b[0mkey\u001b[0m\u001b[0;34m,\u001b[0m \u001b[0maxis\u001b[0m\u001b[0;34m=\u001b[0m\u001b[0maxis\u001b[0m\u001b[0;34m)\u001b[0m\u001b[0;34m\u001b[0m\u001b[0m\n\u001b[1;32m   1484\u001b[0m \u001b[0;34m\u001b[0m\u001b[0m\n",
      "\u001b[0;32m/opt/conda/lib/python3.5/site-packages/pandas/core/indexing.py\u001b[0m in \u001b[0;36m_has_valid_type\u001b[0;34m(self, key, axis)\u001b[0m\n\u001b[1;32m   1417\u001b[0m                 \u001b[0;32mraise\u001b[0m\u001b[0;34m\u001b[0m\u001b[0m\n\u001b[1;32m   1418\u001b[0m             \u001b[0;32mexcept\u001b[0m\u001b[0;34m:\u001b[0m\u001b[0;34m\u001b[0m\u001b[0m\n\u001b[0;32m-> 1419\u001b[0;31m                 \u001b[0merror\u001b[0m\u001b[0;34m(\u001b[0m\u001b[0;34m)\u001b[0m\u001b[0;34m\u001b[0m\u001b[0m\n\u001b[0m\u001b[1;32m   1420\u001b[0m \u001b[0;34m\u001b[0m\u001b[0m\n\u001b[1;32m   1421\u001b[0m         \u001b[0;32mreturn\u001b[0m \u001b[0;32mTrue\u001b[0m\u001b[0;34m\u001b[0m\u001b[0m\n",
      "\u001b[0;32m/opt/conda/lib/python3.5/site-packages/pandas/core/indexing.py\u001b[0m in \u001b[0;36merror\u001b[0;34m()\u001b[0m\n\u001b[1;32m   1404\u001b[0m                                     \"key\")\n\u001b[1;32m   1405\u001b[0m                 raise KeyError(\"the label [%s] is not in the [%s]\" %\n\u001b[0;32m-> 1406\u001b[0;31m                                (key, self.obj._get_axis_name(axis)))\n\u001b[0m\u001b[1;32m   1407\u001b[0m \u001b[0;34m\u001b[0m\u001b[0m\n\u001b[1;32m   1408\u001b[0m             \u001b[0;32mtry\u001b[0m\u001b[0;34m:\u001b[0m\u001b[0;34m\u001b[0m\u001b[0m\n",
      "\u001b[0;31mKeyError\u001b[0m: 'the label [TH01_0121_S01] is not in the [index]'"
     ]
    }
   ],
   "source": [
    "corr_A = corr_df.loc['TH01_0121_S01']"
   ]
  },
  {
   "cell_type": "code",
   "execution_count": 33,
   "metadata": {
    "collapsed": false
   },
   "outputs": [
    {
     "name": "stdout",
     "output_type": "stream",
     "text": [
      "12748 11340 11340\n"
     ]
    }
   ],
   "source": [
    "print(len(prep_df), len(meta_df), len(corr_df))"
   ]
  },
  {
   "cell_type": "code",
   "execution_count": 32,
   "metadata": {
    "collapsed": false
   },
   "outputs": [
    {
     "data": {
      "text/plain": [
       "UMENDcount      4.05781e+07\n",
       "libSelType    riboDepletion\n",
       "Name: TH01_0121_S01, dtype: object"
      ]
     },
     "execution_count": 32,
     "metadata": {},
     "output_type": "execute_result"
    }
   ],
   "source": [
    "prep_df.loc[sample_A]"
   ]
  }
 ],
 "metadata": {
  "kernelspec": {
   "display_name": "Python 3",
   "language": "python",
   "name": "python3"
  },
  "language_info": {
   "codemirror_mode": {
    "name": "ipython",
    "version": 3
   },
   "file_extension": ".py",
   "mimetype": "text/x-python",
   "name": "python",
   "nbconvert_exporter": "python",
   "pygments_lexer": "ipython3",
   "version": "3.5.2"
  }
 },
 "nbformat": 4,
 "nbformat_minor": 2
}
