{
 "cells": [
  {
   "cell_type": "markdown",
   "metadata": {
    "deletable": true,
    "editable": true
   },
   "source": [
    "# Data-Analysis\n",
    "\n",
    "Import and analyze data"
   ]
  },
  {
   "cell_type": "code",
   "execution_count": 15,
   "metadata": {
    "collapsed": false,
    "deletable": true,
    "editable": true
   },
   "outputs": [],
   "source": [
    "import os\n",
    "import sys\n",
    "import json\n",
    "\n",
    "import numpy as np\n",
    "import pandas as pd\n",
    "import matplotlib.pyplot as plt"
   ]
  },
  {
   "cell_type": "code",
   "execution_count": 2,
   "metadata": {
    "collapsed": false,
    "deletable": true,
    "editable": true
   },
   "outputs": [
    {
     "name": "stdout",
     "output_type": "stream",
     "text": [
      "CPU times: user 40 ms, sys: 36 ms, total: 76 ms\n",
      "Wall time: 74.8 ms\n"
     ]
    }
   ],
   "source": [
    "%%time\n",
    "prep_path = 'data/TreehouseCompendiumSamples_LibraryPrep.tsv'\n",
    "prep_df = pd.read_csv(prep_path, sep='\\t', index_col=0)"
   ]
  },
  {
   "cell_type": "code",
   "execution_count": 3,
   "metadata": {
    "collapsed": false,
    "deletable": true,
    "editable": true,
    "scrolled": true
   },
   "outputs": [
    {
     "name": "stdout",
     "output_type": "stream",
     "text": [
      "CPU times: user 2min 10s, sys: 54.2 s, total: 3min 5s\n",
      "Wall time: 3min 8s\n"
     ]
    }
   ],
   "source": [
    "%%time\n",
    "corr_path = 'data/v5_all_by_all.2018-02-04.tsv'\n",
    "corr_df = pd.read_csv(corr_path, sep='\\t', index_col=0)"
   ]
  },
  {
   "cell_type": "code",
   "execution_count": 4,
   "metadata": {
    "collapsed": false,
    "deletable": true,
    "editable": true
   },
   "outputs": [
    {
     "name": "stdout",
     "output_type": "stream",
     "text": [
      "CPU times: user 156 ms, sys: 36 ms, total: 192 ms\n",
      "Wall time: 160 ms\n"
     ]
    }
   ],
   "source": [
    "%%time\n",
    "meta_path = 'data/clinical.tsv'\n",
    "meta_df = pd.read_csv(meta_path, sep='\\t', index_col=0)"
   ]
  },
  {
   "cell_type": "code",
   "execution_count": 5,
   "metadata": {
    "collapsed": false,
    "deletable": true,
    "editable": true
   },
   "outputs": [
    {
     "name": "stdout",
     "output_type": "stream",
     "text": [
      "CPU times: user 48 ms, sys: 8 ms, total: 56 ms\n",
      "Wall time: 53.9 ms\n"
     ]
    }
   ],
   "source": [
    "%%time\n",
    "type_path = 'data/DiseaseAnnotations_2018-04_Labels.csv'\n",
    "type_df = pd.read_csv(type_path, sep=',', index_col=1)"
   ]
  },
  {
   "cell_type": "code",
   "execution_count": 6,
   "metadata": {
    "collapsed": false,
    "deletable": true,
    "editable": true,
    "scrolled": true
   },
   "outputs": [
    {
     "name": "stdout",
     "output_type": "stream",
     "text": [
      "polyASelection            11505\n",
      "riboDepletion               191\n",
      "presumed riboDepletion       32\n",
      "unknown                       9\n",
      "exomeSelection                8\n",
      "Name: libSelType, dtype: int64\n",
      "NA 1003\n"
     ]
    }
   ],
   "source": [
    "print(prep_df['libSelType'].value_counts())\n",
    "print('NA', len(prep_df['libSelType']) - prep_df['libSelType'].count())"
   ]
  },
  {
   "cell_type": "code",
   "execution_count": 7,
   "metadata": {
    "collapsed": false,
    "deletable": true,
    "editable": true
   },
   "outputs": [
    {
     "name": "stdout",
     "output_type": "stream",
     "text": [
      "12748 11340 11340\n"
     ]
    }
   ],
   "source": [
    "print(len(prep_df), len(meta_df), len(corr_df))"
   ]
  },
  {
   "cell_type": "markdown",
   "metadata": {
    "deletable": true,
    "editable": true
   },
   "source": [
    "### [?] Duplicate Entries in library prep tsv"
   ]
  },
  {
   "cell_type": "code",
   "execution_count": 8,
   "metadata": {
    "collapsed": false,
    "deletable": true,
    "editable": true
   },
   "outputs": [
    {
     "data": {
      "text/html": [
       "<div>\n",
       "<table border=\"1\" class=\"dataframe\">\n",
       "  <thead>\n",
       "    <tr style=\"text-align: right;\">\n",
       "      <th></th>\n",
       "      <th>UMENDcount</th>\n",
       "      <th>libSelType</th>\n",
       "    </tr>\n",
       "    <tr>\n",
       "      <th>THid</th>\n",
       "      <th></th>\n",
       "      <th></th>\n",
       "    </tr>\n",
       "  </thead>\n",
       "  <tbody>\n",
       "    <tr>\n",
       "      <th>TCGA-AB-2860-03</th>\n",
       "      <td>NaN</td>\n",
       "      <td>polyASelection</td>\n",
       "    </tr>\n",
       "    <tr>\n",
       "      <th>TCGA-AB-2860-03</th>\n",
       "      <td>NaN</td>\n",
       "      <td>NaN</td>\n",
       "    </tr>\n",
       "  </tbody>\n",
       "</table>\n",
       "</div>"
      ],
      "text/plain": [
       "                 UMENDcount      libSelType\n",
       "THid                                       \n",
       "TCGA-AB-2860-03         NaN  polyASelection\n",
       "TCGA-AB-2860-03         NaN             NaN"
      ]
     },
     "execution_count": 8,
     "metadata": {},
     "output_type": "execute_result"
    }
   ],
   "source": [
    "prep_df.loc['TCGA-AB-2860-03']"
   ]
  },
  {
   "cell_type": "code",
   "execution_count": 9,
   "metadata": {
    "collapsed": false,
    "deletable": true,
    "editable": true
   },
   "outputs": [
    {
     "name": "stdout",
     "output_type": "stream",
     "text": [
      "833\n",
      "1666\n"
     ]
    }
   ],
   "source": [
    "print(sum(prep_df.index.duplicated()))\n",
    "print(sum(prep_df.index.duplicated(False)))\n",
    "assert 1666 == 2 * 833"
   ]
  },
  {
   "cell_type": "markdown",
   "metadata": {
    "deletable": true,
    "editable": true
   },
   "source": [
    "There are 833 rows which are duplicated exactly once in the prep tsv."
   ]
  },
  {
   "cell_type": "markdown",
   "metadata": {
    "deletable": true,
    "editable": true
   },
   "source": [
    "### Method to get correlations from TSV or JSON"
   ]
  },
  {
   "cell_type": "code",
   "execution_count": 315,
   "metadata": {
    "collapsed": false,
    "deletable": true,
    "editable": true
   },
   "outputs": [],
   "source": [
    "def get_correlations(sample):\n",
    "    if sample in corr_df.index:\n",
    "        corr_row = corr_df.loc[sample]\n",
    "        corr_dict = {s: c for s, c in zip(corr_df.index, corr_row)}\n",
    "    else:\n",
    "        json_path = '/data/archive/downstream/%s/tertiary/treehouse-8.0.1_comp-v5/2.0.json' % sample\n",
    "        if os.path.isfile(json_path):\n",
    "            with open(json_path, 'r') as f:\n",
    "                corr_dict = json.loads(f.read())['correlations_vs_focus_sample']\n",
    "        else:\n",
    "            return None\n",
    "    return corr_dict"
   ]
  },
  {
   "cell_type": "code",
   "execution_count": 11,
   "metadata": {
    "collapsed": false,
    "deletable": true,
    "editable": true
   },
   "outputs": [],
   "source": [
    "def get_samples(prefix):\n",
    "    base_path = '/data/archive/downstream/'\n",
    "    if prefix[:6] == 'TARGET':\n",
    "        samples = [prefix+'-01A-01R']\n",
    "    elif prefix[:2] == 'TH':\n",
    "        prefix_path = '%s_S' % prefix\n",
    "        samples = []\n",
    "        for i in range(100):\n",
    "            index = '%02d' % i\n",
    "            sample_path = prefix_path+index\n",
    "            if os.path.isdir(base_path+sample_path):\n",
    "                samples.append(sample_path)\n",
    "    else:\n",
    "        raise Exception('Unknown prefix type')\n",
    "    return samples"
   ]
  },
  {
   "cell_type": "markdown",
   "metadata": {
    "deletable": true,
    "editable": true
   },
   "source": [
    "# Experiments/Results"
   ]
  },
  {
   "cell_type": "code",
   "execution_count": 12,
   "metadata": {
    "collapsed": true,
    "deletable": true,
    "editable": true
   },
   "outputs": [],
   "source": [
    "sample_A = 'TH01_0121_S01'\n",
    "sample_B = 'TH01_0123_S01'"
   ]
  },
  {
   "cell_type": "markdown",
   "metadata": {
    "deletable": true,
    "editable": true
   },
   "source": [
    "# 1.\n",
    "\n",
    "Recheck results: are most similar samples still AML in v5?"
   ]
  },
  {
   "cell_type": "markdown",
   "metadata": {
    "deletable": true,
    "editable": true
   },
   "source": [
    "### TH01_0121_S01\n",
    "\n",
    "https://jupyter.treehouse.gi.ucsc.edu/user/kellerjordan/files/TURG-Research/data/TH01_0121_S01/Summary.html\n",
    "\n",
    "Of `6` most correlated samples, `3/6 = 0.5` were AML."
   ]
  },
  {
   "cell_type": "markdown",
   "metadata": {
    "deletable": true,
    "editable": true
   },
   "source": [
    "### TH01_0123_S01\n",
    "\n",
    "https://jupyter.treehouse.gi.ucsc.edu/user/kellerjordan/files/TURG-Research/data/TH01_0123_S01/Summary.html\n",
    "\n",
    "Of `6` most correlated samples, `6/6 = 1.0` were AML."
   ]
  },
  {
   "cell_type": "markdown",
   "metadata": {
    "deletable": true,
    "editable": true
   },
   "source": [
    "# 2.\n",
    "\n",
    "For each, what fraction of top 95% (corr > 0.87) were AML?"
   ]
  },
  {
   "cell_type": "code",
   "execution_count": 314,
   "metadata": {
    "collapsed": false,
    "deletable": true,
    "editable": true
   },
   "outputs": [],
   "source": [
    "def get_prefix(sample):\n",
    "    last_pos = max(sample.rfind('_'), sample.rfind('-'))\n",
    "    return sample[:last_pos]\n",
    "\n",
    "def get_prefixes(samples):\n",
    "    return [get_prefix(s) for s in samples]\n",
    "\n",
    "def fraction_aml(sample, aml='acute myeloid leukemia', threshold=0.87):\n",
    "    correlations = get_correlations(sample)\n",
    "    if correlations is None:\n",
    "        return -1\n",
    "    \n",
    "    top_samples = []\n",
    "    for s, c in correlations.items():\n",
    "        if c > threshold:\n",
    "            top_samples.append(s)\n",
    "    prefix_corr_samples = get_prefixes(top_samples)\n",
    "    corr_diseases = type_df.loc[prefix_corr_samples]['Diagnosis/Disease']\n",
    "    disease_counts = corr_diseases.value_counts()\n",
    "    \n",
    "    if aml in disease_counts:\n",
    "        return disease_counts['acute myeloid leukemia'] / len(corr_diseases)\n",
    "    else:\n",
    "        return 0"
   ]
  },
  {
   "cell_type": "code",
   "execution_count": 309,
   "metadata": {
    "collapsed": false,
    "deletable": true,
    "editable": true
   },
   "outputs": [
    {
     "name": "stdout",
     "output_type": "stream",
     "text": [
      "TH01_0121_S01:\n",
      "acute myeloid leukemia              29\n",
      "acute lymphoblastic leukemia         4\n",
      "acute leukemia                       4\n",
      "juvenile myelomonocytic leukemia     2\n",
      "Name: Diagnosis/Disease, dtype: int64\n",
      "Fraction AML: 0.74358974359\n",
      "\n",
      "TH01_0123_S01:\n",
      "acute myeloid leukemia          62\n",
      "acute lymphoblastic leukemia    40\n",
      "acute leukemia                   3\n",
      "Name: Diagnosis/Disease, dtype: int64\n",
      "Fraction AML: 0.590476190476\n"
     ]
    }
   ],
   "source": [
    "print('%s:' % sample_A)\n",
    "print(top_diseases(sample_A).value_counts())\n",
    "print('Fraction AML:', fraction_aml(sample_A))\n",
    "print()\n",
    "print('%s:' % sample_B)\n",
    "print(top_diseases(sample_B).value_counts())\n",
    "print('Fraction AML:', fraction_aml(sample_B))"
   ]
  },
  {
   "cell_type": "markdown",
   "metadata": {
    "deletable": true,
    "editable": true
   },
   "source": [
    "# 3.\n",
    "\n",
    "Are the top most correlated samples still places in the AML cluster on tumormap?"
   ]
  },
  {
   "cell_type": "markdown",
   "metadata": {
    "deletable": true,
    "editable": true
   },
   "source": [
    "https://tumormap.ucsc.edu/?p=CKCC/v5&node=TH26_0657_S04,TH26_0657_S05,TH26_0657_S03,TCGA-AB-2915-03,TCGA-AB-2868-03,TCGA-AB-2952-03&x=24,25,24,346,346,344&y=323,321,322,40,42,40\n",
    "\n",
    "\n",
    "https://tumormap.ucsc.edu/?p=CKCC/v5&node=TCGA-AB-2934-03,TCGA-AB-2890-03,TCGA-AB-2927-03,TCGA-AB-2936-03,TCGA-AB-2915-03,TCGA-AB-2868-03&x=340,349,350,349,346,346&y=44,43,44,48,40,42"
   ]
  },
  {
   "cell_type": "markdown",
   "metadata": {
    "deletable": true,
    "editable": true
   },
   "source": [
    "For the top six most correlated samples in each case, all that were labeled AML are placed in the AML cluster. Those that are labeled ALL are not."
   ]
  },
  {
   "cell_type": "markdown",
   "metadata": {
    "deletable": true,
    "editable": true
   },
   "source": [
    "# 4.\n",
    "\n",
    "How correlated are other ALL samples with AML? Specifically, what impact does RiboD preparation have on their correlation? Use the `type_df` to find ALL samples of interest.\n",
    "\n",
    "This section is the only one where preparation type matters, as in every other case I search only in the correlation matrix which contains only PolyA-prepared samples."
   ]
  },
  {
   "cell_type": "code",
   "execution_count": 338,
   "metadata": {
    "collapsed": false,
    "deletable": true,
    "editable": true
   },
   "outputs": [
    {
     "data": {
      "text/plain": [
       "705"
      ]
     },
     "execution_count": 338,
     "metadata": {},
     "output_type": "execute_result"
    }
   ],
   "source": [
    "ALL_rows_type_df = type_df.loc[type_df['Diagnosis/Disease'] == 'acute lymphoblastic leukemia']\n",
    "ALL_prefixes = list(ALL_rows_type_df.index)\n",
    "ALL_samples_type_df = []\n",
    "for prefix in ALL_rows.index:\n",
    "    ALL_samples_type_df.extend(get_samples(prefix))\n",
    "ALL_samples_meta_df = list(meta_df.loc[meta_df['disease'] == 'acute lymphoblastic leukemia'].index)\n",
    "ALL_samples = ALL_samples_type_df + ALL_samples_meta_df\n",
    "len(ALL_samples)"
   ]
  },
  {
   "cell_type": "code",
   "execution_count": 339,
   "metadata": {
    "collapsed": true,
    "deletable": true,
    "editable": true
   },
   "outputs": [],
   "source": [
    "sources = ['THR', 'TH0', 'TARGET']"
   ]
  },
  {
   "cell_type": "markdown",
   "metadata": {},
   "source": [
    "## TARGET data does not exist in file structure"
   ]
  },
  {
   "cell_type": "code",
   "execution_count": 343,
   "metadata": {
    "collapsed": false,
    "deletable": true,
    "editable": true,
    "scrolled": true
   },
   "outputs": [
    {
     "name": "stdout",
     "output_type": "stream",
     "text": [
      "CPU times: user 6.51 s, sys: 160 ms, total: 6.67 s\n",
      "Wall time: 6.6 s\n"
     ]
    }
   ],
   "source": [
    "%%time\n",
    "fracs_aml = {}\n",
    "missing_samples = []\n",
    "for sample in ALL_samples:\n",
    "    frac = fraction_aml(sample)\n",
    "    if frac == -1:\n",
    "        missing_samples.append(sample)\n",
    "    else:\n",
    "        fracs_aml[sample] = frac\n",
    "fracs_aml_by_src = {}\n",
    "for src in sources:\n",
    "    fracs_aml_by_src[src] = [v for k, v in fracs_aml.items() if k[:len(src)] == src]"
   ]
  },
  {
   "cell_type": "markdown",
   "metadata": {},
   "source": [
    "## Issue: no files for TARGET"
   ]
  },
  {
   "cell_type": "code",
   "execution_count": 345,
   "metadata": {
    "collapsed": false,
    "deletable": true,
    "editable": true
   },
   "outputs": [
    {
     "name": "stdout",
     "output_type": "stream",
     "text": [
      "Number of ALL samples with prefix THR: 66\n"
     ]
    },
    {
     "data": {
      "image/png": "[encoded data removed]",
      "text/plain": [
       "<matplotlib.figure.Figure at 0x7f312978fba8>"
      ]
     },
     "metadata": {},
     "output_type": "display_data"
    },
    {
     "name": "stdout",
     "output_type": "stream",
     "text": [
      "Number of ALL samples with prefix TH0: 20\n"
     ]
    },
    {
     "data": {
      "image/png": "[encoded data removed]",
      "text/plain": [
       "<matplotlib.figure.Figure at 0x7f312ba19ef0>"
      ]
     },
     "metadata": {},
     "output_type": "display_data"
    },
    {
     "name": "stdout",
     "output_type": "stream",
     "text": [
      "Number of ALL samples with prefix TARGET: 194\n"
     ]
    },
    {
     "data": {
      "image/png": "[encoded data removed]",
      "text/plain": [
       "<matplotlib.figure.Figure at 0x7f31297702e8>"
      ]
     },
     "metadata": {},
     "output_type": "display_data"
    }
   ],
   "source": [
    "for src in sources:\n",
    "    print('Number of ALL samples with prefix %s:' % src, len(fracs_aml_by_src[src]))\n",
    "    plt.hist(fracs_aml_by_src[src], bins=20, range=(0, 1))\n",
    "    plt.title('Fraction AML in correlated samples from source %s' % src)\n",
    "    plt.xlabel('Fraction AML in top 95% most correlated samples')\n",
    "    plt.ylabel('Histogram frequency')\n",
    "    plt.show()"
   ]
  },
  {
   "cell_type": "markdown",
   "metadata": {
    "deletable": true,
    "editable": true
   },
   "source": [
    "## Is there a correlation between data source and prep type?"
   ]
  },
  {
   "cell_type": "code",
   "execution_count": 346,
   "metadata": {
    "collapsed": true,
    "deletable": true,
    "editable": true
   },
   "outputs": [],
   "source": [
    "samples_by_src = {}\n",
    "for src in sources:\n",
    "    samples_by_src[src] = [k for k in fracs_aml.keys() if k[:len(src)] == src]"
   ]
  },
  {
   "cell_type": "markdown",
   "metadata": {
    "deletable": true,
    "editable": true
   },
   "source": [
    "## Overall prep type ratios from different sources"
   ]
  },
  {
   "cell_type": "code",
   "execution_count": 347,
   "metadata": {
    "collapsed": true,
    "deletable": true,
    "editable": true
   },
   "outputs": [],
   "source": [
    "def get_prep_types(src):\n",
    "    prep_types = []\n",
    "    for s in prep_df.index:\n",
    "        if src in s:\n",
    "            t = prep_df.loc[s]['libSelType']\n",
    "            if type(t) == pd.Series:\n",
    "                t = t.iloc[0]\n",
    "            prep_types.append(t)\n",
    "    prep_types = pd.Series(prep_types)\n",
    "    return prep_types"
   ]
  },
  {
   "cell_type": "code",
   "execution_count": 348,
   "metadata": {
    "collapsed": false,
    "deletable": true,
    "editable": true
   },
   "outputs": [
    {
     "name": "stdout",
     "output_type": "stream",
     "text": [
      "Source: TARGET\n",
      "polyASelection    1053\n",
      "riboDepletion       13\n",
      "dtype: int64\n",
      "\n",
      "Source: TH0\n",
      "polyASelection            194\n",
      "riboDepletion              60\n",
      "presumed riboDepletion     32\n",
      "unknown                     9\n",
      "dtype: int64\n",
      "\n",
      "Source: THR\n",
      "polyASelection    650\n",
      "riboDepletion     118\n",
      "exomeSelection      8\n",
      "dtype: int64\n"
     ]
    }
   ],
   "source": [
    "print('Source: TARGET')\n",
    "print(get_prep_types('TARGET').value_counts())\n",
    "print('\\nSource: TH0')\n",
    "print(get_prep_types('TH0').value_counts())\n",
    "print('\\nSource: THR')\n",
    "print(get_prep_types('THR').value_counts())"
   ]
  },
  {
   "cell_type": "markdown",
   "metadata": {
    "deletable": true,
    "editable": true
   },
   "source": [
    "## Prep types for samples highly correlated to ALL (TARGET samples not in prep df)"
   ]
  },
  {
   "cell_type": "code",
   "execution_count": 349,
   "metadata": {
    "collapsed": true,
    "deletable": true,
    "editable": true
   },
   "outputs": [],
   "source": [
    "def get_prep_types_samples(src):\n",
    "    samples = prep_df.loc[samples_by_src[src]]\n",
    "    return samples['libSelType']"
   ]
  },
  {
   "cell_type": "code",
   "execution_count": 350,
   "metadata": {
    "collapsed": false,
    "deletable": true,
    "editable": true,
    "scrolled": false
   },
   "outputs": [
    {
     "name": "stdout",
     "output_type": "stream",
     "text": [
      "Source: TH0\n",
      "riboDepletion             13\n",
      "polyASelection             5\n",
      "presumed riboDepletion     2\n",
      "Name: libSelType, dtype: int64\n",
      "\n",
      "Source: THR\n",
      "polyASelection    66\n",
      "Name: libSelType, dtype: int64\n"
     ]
    }
   ],
   "source": [
    "print('Source: TH0')\n",
    "print(get_prep_types_samples('TH0').value_counts())\n",
    "\n",
    "print('\\nSource: THR')\n",
    "print(get_prep_types_samples('THR').value_counts())"
   ]
  },
  {
   "cell_type": "code",
   "execution_count": 351,
   "metadata": {
    "collapsed": false,
    "deletable": true,
    "editable": true
   },
   "outputs": [],
   "source": [
    "def plot_frac_aml_by_prep(src):\n",
    "    samples = samples_by_src[src]\n",
    "    prep_types = prep_df.loc[samples]['libSelType']\n",
    "    corr_by_prep = {}\n",
    "    for s, t in zip(samples, prep_types):\n",
    "        if t not in corr_by_prep:\n",
    "            corr_by_prep[t] = []\n",
    "        corr_by_prep[t].append(fracs_aml[s])\n",
    "    for t, corrs in corr_by_prep.items():\n",
    "        print('Number of ALL samples prep`d with %s: %d' % (t, len(corrs)))\n",
    "        plt.hist(corrs, bins=20, range=(0, 1.0))\n",
    "        plt.title('Fraction AML in correlated samples prep`d by %s' % t)\n",
    "        plt.xlabel('Fraction AML in top 95% correlated samples')\n",
    "        plt.ylabel('Histogram frequency')\n",
    "        plt.show()"
   ]
  },
  {
   "cell_type": "code",
   "execution_count": 354,
   "metadata": {
    "collapsed": false,
    "deletable": true,
    "editable": true,
    "scrolled": false
   },
   "outputs": [
    {
     "name": "stdout",
     "output_type": "stream",
     "text": [
      "Source: TH0\n",
      "Number of ALL samples prep`d with riboDepletion: 13\n"
     ]
    },
    {
     "data": {
      "image/png": "[encoded data removed]",
      "text/plain": [
       "<matplotlib.figure.Figure at 0x7f30fff19438>"
      ]
     },
     "metadata": {},
     "output_type": "display_data"
    },
    {
     "name": "stdout",
     "output_type": "stream",
     "text": [
      "Number of ALL samples prep`d with polyASelection: 5\n"
     ]
    },
    {
     "data": {
      "image/png": "[encoded data removed]",
      "text/plain": [
       "<matplotlib.figure.Figure at 0x7f3126ffa2b0>"
      ]
     },
     "metadata": {},
     "output_type": "display_data"
    },
    {
     "name": "stdout",
     "output_type": "stream",
     "text": [
      "Number of ALL samples prep`d with presumed riboDepletion: 2\n"
     ]
    },
    {
     "data": {
      "image/png": "[encoded data removed]",
      "text/plain": [
       "<matplotlib.figure.Figure at 0x7f3126d68668>"
      ]
     },
     "metadata": {},
     "output_type": "display_data"
    },
    {
     "name": "stdout",
     "output_type": "stream",
     "text": [
      "Source: THR\n",
      "Number of ALL samples prep`d with polyASelection: 66\n"
     ]
    },
    {
     "data": {
      "image/png": "[encoded data removed]",
      "text/plain": [
       "<matplotlib.figure.Figure at 0x7f31243cb5c0>"
      ]
     },
     "metadata": {},
     "output_type": "display_data"
    },
    {
     "name": "stdout",
     "output_type": "stream",
     "text": [
      "Source: TARGET\n",
      "Number of ALL samples prep`d with nan: 14\n"
     ]
    },
    {
     "data": {
      "image/png": "[encoded data removed]",
      "text/plain": [
       "<matplotlib.figure.Figure at 0x7f3126ea16d8>"
      ]
     },
     "metadata": {},
     "output_type": "display_data"
    },
    {
     "name": "stdout",
     "output_type": "stream",
     "text": [
      "Number of ALL samples prep`d with polyASelection: 180\n"
     ]
    },
    {
     "data": {
      "image/png": "[encoded data removed]",
      "text/plain": [
       "<matplotlib.figure.Figure at 0x7f31293d7358>"
      ]
     },
     "metadata": {},
     "output_type": "display_data"
    }
   ],
   "source": [
    "print('Source: TH0')\n",
    "plot_frac_aml_by_prep('TH0')\n",
    "print('Source: THR')\n",
    "plot_frac_aml_by_prep('THR')\n",
    "print('Source: TARGET')\n",
    "plot_frac_aml_by_prep('TARGET')"
   ]
  },
  {
   "cell_type": "markdown",
   "metadata": {
    "deletable": true,
    "editable": true
   },
   "source": [
    "# 5.\n",
    "\n",
    "Find the samples of any type that are most correlated with AML (but not AML themselves)."
   ]
  },
  {
   "cell_type": "code",
   "execution_count": 355,
   "metadata": {
    "collapsed": true
   },
   "outputs": [],
   "source": [
    "def get_prefix(sample):\n",
    "    if 'TARGET' in sample:\n",
    "        return sample[:16]\n",
    "    elif 'TCGA' in sample:\n",
    "        return sample[:12]\n",
    "    elif 'THR' in sample:\n",
    "        return sample[:10]\n",
    "    elif 'TH' in sample:\n",
    "        return sample[:9]\n",
    "    else:\n",
    "        raise Exception('Unknown data source')"
   ]
  },
  {
   "cell_type": "code",
   "execution_count": 356,
   "metadata": {
    "collapsed": false
   },
   "outputs": [
    {
     "name": "stdout",
     "output_type": "stream",
     "text": [
      "81\n",
      "CPU times: user 3min 22s, sys: 0 ns, total: 3min 22s\n",
      "Wall time: 3min 22s\n"
     ]
    }
   ],
   "source": [
    "%%time\n",
    "threshold = 0.3\n",
    "amlish_samples = []\n",
    "for sample in corr_df.index:\n",
    "    try:\n",
    "        is_aml = type_df.loc[get_prefix(sample)]['Diagnosis/Disease'] == 'acute myeloid leukemia'\n",
    "        if not is_aml:\n",
    "            f = fraction_aml(sample)\n",
    "            if f > threshold:\n",
    "                amlish_samples.append(sample)\n",
    "    except Exception as e:\n",
    "        print('error:', sample)\n",
    "        print(e)\n",
    "print(len(amlish_samples))"
   ]
  },
  {
   "cell_type": "code",
   "execution_count": 357,
   "metadata": {
    "collapsed": false
   },
   "outputs": [
    {
     "data": {
      "image/png": "[encoded data removed]",
      "text/plain": [
       "<matplotlib.figure.Figure at 0x7f312c139e48>"
      ]
     },
     "metadata": {},
     "output_type": "display_data"
    }
   ],
   "source": [
    "correlations = []\n",
    "for s in amlish_samples:\n",
    "    correlations.append(fraction_aml(s))\n",
    "plt.hist(correlations, bins=20, range=(0, 1))\n",
    "plt.title('Fraction AML of most correlated samples (for frac > 0.3)')\n",
    "plt.show()"
   ]
  },
  {
   "cell_type": "code",
   "execution_count": 358,
   "metadata": {
    "collapsed": false
   },
   "outputs": [
    {
     "data": {
      "text/plain": [
       "acute lymphoblastic leukemia           67\n",
       "acute leukemia                          6\n",
       "acute leukemia of ambiguous lineage     2\n",
       "juvenile myelomonocytic leukemia        2\n",
       "lymphoma                                1\n",
       "mixed phenotype acute leukemia          1\n",
       "leukemia                                1\n",
       "acute undifferentiated leukemia         1\n",
       "dtype: int64"
      ]
     },
     "execution_count": 358,
     "metadata": {},
     "output_type": "execute_result"
    }
   ],
   "source": [
    "diseases = []\n",
    "for s in amlish_samples:\n",
    "    d = type_df.loc[get_prefix(s)]['Diagnosis/Disease']\n",
    "    diseases.append(d)\n",
    "pd.Series(diseases).value_counts()"
   ]
  },
  {
   "cell_type": "code",
   "execution_count": 359,
   "metadata": {
    "collapsed": false
   },
   "outputs": [
    {
     "name": "stdout",
     "output_type": "stream",
     "text": [
      "TARGET-10-PARPZJ-03 \t 0\n",
      "TARGET-10-PARMXF-04 \t\t 0.864285714286\n"
     ]
    }
   ],
   "source": [
    "sample_1 = ALL_samples[-27]\n",
    "sample_2 = amlish_samples[-1]\n",
    "\n",
    "print(sample_1, '\\t', fraction_aml(sample_1))\n",
    "print(sample_2, '\\t\\t', fraction_aml(sample_2))"
   ]
  },
  {
   "cell_type": "markdown",
   "metadata": {},
   "source": [
    "# Results So Far\n",
    "\n",
    "#### (subject to data bias due to missing TARGET and some TH0 files)\n",
    "\n",
    "Preparation type and dataset source seem to have little impact on correlation to AML. Many leukemia are often correlated to AML.\n",
    "\n",
    "The distribution of correlations seems different using PolyA / RiboD prep"
   ]
  }
 ],
 "metadata": {
  "kernelspec": {
   "display_name": "Python 3",
   "language": "python",
   "name": "python3"
  },
  "language_info": {
   "codemirror_mode": {
    "name": "ipython",
    "version": 3
   },
   "file_extension": ".py",
   "mimetype": "text/x-python",
   "name": "python",
   "nbconvert_exporter": "python",
   "pygments_lexer": "ipython3",
   "version": "3.5.2"
  }
 },
 "nbformat": 4,
 "nbformat_minor": 2
}
