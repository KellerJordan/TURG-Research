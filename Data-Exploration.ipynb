{
 "cells": [
  {
   "cell_type": "markdown",
   "metadata": {
    "deletable": true,
    "editable": true
   },
   "source": [
    "# Data-Exploration\n",
    "\n",
    "Import and explore data"
   ]
  },
  {
   "cell_type": "code",
   "execution_count": 1,
   "metadata": {
    "collapsed": true
   },
   "outputs": [],
   "source": [
    "%load_ext autoreload\n",
    "%autoreload 2"
   ]
  },
  {
   "cell_type": "code",
   "execution_count": 2,
   "metadata": {
    "collapsed": true
   },
   "outputs": [],
   "source": [
    "import os\n",
    "import sys\n",
    "import json\n",
    "import glob\n",
    "\n",
    "import numpy as np\n",
    "import pandas as pd\n",
    "import matplotlib.pyplot as plt\n",
    "\n",
    "from utils import *"
   ]
  },
  {
   "cell_type": "code",
   "execution_count": 3,
   "metadata": {
    "collapsed": false
   },
   "outputs": [
    {
     "name": "stdout",
     "output_type": "stream",
     "text": [
      "CPU times: user 1min 47s, sys: 30.7 s, total: 2min 17s\n",
      "Wall time: 2min 18s\n"
     ]
    }
   ],
   "source": [
    "%%time\n",
    "corr_df = load_tsv('/data/archive/compendium/v5/v5_all_by_all.2018-02-04.tsv')"
   ]
  },
  {
   "cell_type": "code",
   "execution_count": 4,
   "metadata": {
    "collapsed": false
   },
   "outputs": [
    {
     "name": "stdout",
     "output_type": "stream",
     "text": [
      "CPU times: user 152 ms, sys: 64 ms, total: 216 ms\n",
      "Wall time: 152 ms\n"
     ]
    }
   ],
   "source": [
    "%%time\n",
    "meta_df = load_tsv('/data/archive/compendium/v5/clinical.tsv')"
   ]
  },
  {
   "cell_type": "code",
   "execution_count": 5,
   "metadata": {
    "collapsed": false
   },
   "outputs": [
    {
     "name": "stdout",
     "output_type": "stream",
     "text": [
      "CPU times: user 20 ms, sys: 4 ms, total: 24 ms\n",
      "Wall time: 21.8 ms\n"
     ]
    }
   ],
   "source": [
    "%%time\n",
    "prep_df = load_tsv('~/work/TURG/resources/TreehouseCompendiumSamples_LibraryPrep.tsv')"
   ]
  },
  {
   "cell_type": "code",
   "execution_count": 6,
   "metadata": {
    "collapsed": false
   },
   "outputs": [
    {
     "name": "stdout",
     "output_type": "stream",
     "text": [
      "CPU times: user 0 ns, sys: 0 ns, total: 0 ns\n",
      "Wall time: 9.06 µs\n"
     ]
    }
   ],
   "source": [
    "%time\n",
    "type_df = pd.read_csv('~/work/TURG/resources/DiseaseAnnotations_2018-04_Labels.csv', sep=',', index_col=1)"
   ]
  },
  {
   "cell_type": "markdown",
   "metadata": {},
   "source": [
    "## Dataset Info"
   ]
  },
  {
   "cell_type": "markdown",
   "metadata": {},
   "source": [
    "#### `corr_df` : all by all correlation matrix\n",
    "\n",
    "Dataset of the intercorrelations between 11,340 samples measured by pearson (?) correlation\n",
    "\n",
    "Indexed by Treehouse Sample ID."
   ]
  },
  {
   "cell_type": "code",
   "execution_count": 7,
   "metadata": {
    "collapsed": false
   },
   "outputs": [
    {
     "data": {
      "text/plain": [
       "11340"
      ]
     },
     "execution_count": 7,
     "metadata": {},
     "output_type": "execute_result"
    }
   ],
   "source": [
    "len(corr_df)"
   ]
  },
  {
   "cell_type": "markdown",
   "metadata": {},
   "source": [
    "#### `meta_df`\n",
    "\n",
    "Dataset of the same 11,340 samples as in `corr_df`: contains 45 columns including `disease` and `source`.\n",
    "\n",
    "Indexed by Treehouse Sample ID."
   ]
  },
  {
   "cell_type": "code",
   "execution_count": 8,
   "metadata": {
    "collapsed": false
   },
   "outputs": [
    {
     "data": {
      "text/plain": [
       "11340"
      ]
     },
     "execution_count": 8,
     "metadata": {},
     "output_type": "execute_result"
    }
   ],
   "source": [
    "len(meta_df)"
   ]
  },
  {
   "cell_type": "markdown",
   "metadata": {},
   "source": [
    "#### `prep_df`\n",
    "\n",
    "Dataset of 12,748 samples (a superset of those in `corr_df` and `meta_df`). Contains 833 duplicate rows, always single duplicates with `libSelType = NaN`.\n",
    "\n",
    "Indexed by Treehouse Sample ID."
   ]
  },
  {
   "cell_type": "code",
   "execution_count": 9,
   "metadata": {
    "collapsed": false
   },
   "outputs": [
    {
     "name": "stdout",
     "output_type": "stream",
     "text": [
      "Total samples: 12748 \n",
      "\n",
      "Value counts:\n",
      "polyASelection            11505\n",
      "riboDepletion               191\n",
      "presumed riboDepletion       32\n",
      "unknown                       9\n",
      "exomeSelection                8\n",
      "Name: libSelType, dtype: int64 \n",
      "\n",
      "Number of NA values: 1003 \n",
      "\n",
      "Example of duplicate row:\n",
      "                 UMENDcount      libSelType\n",
      "THid                                       \n",
      "TCGA-AB-2860-03         NaN  polyASelection\n",
      "TCGA-AB-2860-03         NaN             NaN \n",
      "\n",
      "Total number of duplicate rows: 833\n"
     ]
    }
   ],
   "source": [
    "print('Total samples:', len(prep_df), '\\n')\n",
    "print('Value counts:')\n",
    "print(prep_df['libSelType'].value_counts(), '\\n')\n",
    "print('Number of NA values:', len(prep_df['libSelType']) - prep_df['libSelType'].count(), '\\n')\n",
    "print('Example of duplicate row:')\n",
    "print(prep_df.loc['TCGA-AB-2860-03'], '\\n')\n",
    "print('Total number of duplicate rows:', sum(prep_df.index.duplicated()))"
   ]
  },
  {
   "cell_type": "markdown",
   "metadata": {},
   "source": [
    "#### `type_df`\n",
    "\n",
    "Dataset of 11,586 donors and their associated disease. I do not know the relationship between these 11,586 samples and those in other datasets.\n",
    "\n",
    "Many of the donor ids present in this dataset cannot be found in either the correlation dataframe or the all-v-all matrix.\n",
    "\n",
    "Indexed by Treehouse Donor ID (which makes up the first part of Treehouse Sample ID)."
   ]
  },
  {
   "cell_type": "code",
   "execution_count": 10,
   "metadata": {
    "collapsed": false,
    "scrolled": true
   },
   "outputs": [
    {
     "name": "stdout",
     "output_type": "stream",
     "text": [
      "Number of donors: 11586 \n",
      "\n"
     ]
    },
    {
     "data": {
      "text/html": [
       "<div>\n",
       "<table border=\"1\" class=\"dataframe\">\n",
       "  <thead>\n",
       "    <tr style=\"text-align: right;\">\n",
       "      <th></th>\n",
       "      <th>TH Unique Donor Key</th>\n",
       "      <th>Diagnosis/Disease</th>\n",
       "      <th>Diagnostic group</th>\n",
       "      <th>Histology</th>\n",
       "    </tr>\n",
       "    <tr>\n",
       "      <th>Treehouse Donor ID</th>\n",
       "      <th></th>\n",
       "      <th></th>\n",
       "      <th></th>\n",
       "      <th></th>\n",
       "    </tr>\n",
       "  </thead>\n",
       "  <tbody>\n",
       "    <tr>\n",
       "      <th>TH03_0003</th>\n",
       "      <td>3</td>\n",
       "      <td>sarcoma</td>\n",
       "      <td>Sarcoma other (all other types)</td>\n",
       "      <td>undifferentiated</td>\n",
       "    </tr>\n",
       "    <tr>\n",
       "      <th>TH03_0004</th>\n",
       "      <td>4</td>\n",
       "      <td>hepatoblastoma</td>\n",
       "      <td>Liver</td>\n",
       "      <td>fetal and embryonal elements</td>\n",
       "    </tr>\n",
       "    <tr>\n",
       "      <th>TH03_0005</th>\n",
       "      <td>5</td>\n",
       "      <td>nasopharyngeal carcinoma</td>\n",
       "      <td>Other</td>\n",
       "      <td>non-keratinizing</td>\n",
       "    </tr>\n",
       "    <tr>\n",
       "      <th>TH03_0006</th>\n",
       "      <td>6</td>\n",
       "      <td>rhabdomyosarcoma</td>\n",
       "      <td>Sarcoma other (all other types)</td>\n",
       "      <td>anaplastic</td>\n",
       "    </tr>\n",
       "    <tr>\n",
       "      <th>TH03_0007</th>\n",
       "      <td>7</td>\n",
       "      <td>acute myeloid leukemia</td>\n",
       "      <td>Hematopoietic</td>\n",
       "      <td>NaN</td>\n",
       "    </tr>\n",
       "  </tbody>\n",
       "</table>\n",
       "</div>"
      ],
      "text/plain": [
       "                   TH Unique Donor Key         Diagnosis/Disease  \\\n",
       "Treehouse Donor ID                                                 \n",
       "TH03_0003                            3                   sarcoma   \n",
       "TH03_0004                            4            hepatoblastoma   \n",
       "TH03_0005                            5  nasopharyngeal carcinoma   \n",
       "TH03_0006                            6          rhabdomyosarcoma   \n",
       "TH03_0007                            7    acute myeloid leukemia   \n",
       "\n",
       "                                   Diagnostic group  \\\n",
       "Treehouse Donor ID                                    \n",
       "TH03_0003           Sarcoma other (all other types)   \n",
       "TH03_0004                                     Liver   \n",
       "TH03_0005                                     Other   \n",
       "TH03_0006           Sarcoma other (all other types)   \n",
       "TH03_0007                             Hematopoietic   \n",
       "\n",
       "                                       Histology  \n",
       "Treehouse Donor ID                                \n",
       "TH03_0003                       undifferentiated  \n",
       "TH03_0004           fetal and embryonal elements  \n",
       "TH03_0005                       non-keratinizing  \n",
       "TH03_0006                             anaplastic  \n",
       "TH03_0007                                    NaN  "
      ]
     },
     "execution_count": 10,
     "metadata": {},
     "output_type": "execute_result"
    }
   ],
   "source": [
    "print('Number of donors:', len(type_df), '\\n')\n",
    "type_df.head()"
   ]
  },
  {
   "cell_type": "code",
   "execution_count": 11,
   "metadata": {
    "collapsed": false
   },
   "outputs": [
    {
     "name": "stdout",
     "output_type": "stream",
     "text": [
      "Donor id in type_df: True\n",
      "Donor id in file structure: False\n"
     ]
    }
   ],
   "source": [
    "# for example\n",
    "donor_id = 'TH01_0660'\n",
    "print('Donor id in type_df:', donor_id in type_df.index)\n",
    "print('Donor id in file structure:', len(glob.glob('/data/archive/downstream/%s*' % donor_id)) != 0)"
   ]
  },
  {
   "cell_type": "markdown",
   "metadata": {},
   "source": [
    "# Thoughts\n",
    "\n",
    "When retrieving correlations, we can only get correlations against the samples in `corr_df`, aka the reference set (?). This is somewhat problematic, as it means that \n",
    "\n",
    "If there were any systematic effects in which samples were missing from the file structure, that creates issues.\n",
    "\n",
    "I chose to get only a single sample for each donor in the `type_df`. But right now, that might double up with samples from `corr_df` that come from the same donor."
   ]
  }
 ],
 "metadata": {
  "kernelspec": {
   "display_name": "Python 3",
   "language": "python",
   "name": "python3"
  },
  "language_info": {
   "codemirror_mode": {
    "name": "ipython",
    "version": 3
   },
   "file_extension": ".py",
   "mimetype": "text/x-python",
   "name": "python",
   "nbconvert_exporter": "python",
   "pygments_lexer": "ipython3",
   "version": "3.5.2"
  }
 },
 "nbformat": 4,
 "nbformat_minor": 2
}
