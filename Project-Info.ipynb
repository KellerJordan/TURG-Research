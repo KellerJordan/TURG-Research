{
 "cells": [
  {
   "cell_type": "markdown",
   "metadata": {
    "deletable": true,
    "editable": true
   },
   "source": [
    "# Keller's research into the cause of AML-ness in two ALL samples\n",
    "Keller will investigate whether differences due to a ribodepletion library preparation could have caused two ALL (acute lymphocytic leukemia) samples to appear to have AML-like (acute myeloid leukemia) characteristics. \n",
    "\n",
    "This is an important project for Treehouse. Our overall goal is that every kid with cancer have a treatment option, which is not currently the case. We take advantage of the relatively recent development of targeted drugs. Unlike chemo therapies, which indiscriminately target all dividing cells in the body, targeted therapies affect a pathway or class of molecules. In adults, these activated pathways are often identified with a mutation, but mutation in analysis in kids is usually less fruitful because fewer clinically actionable mutations are known, in part because fewer mutations exist. Consequently, we seek to identify pathways with transcriptional evidence of activation, and we use comparative RNA-Seq analysis to accomplish it.\n",
    "\n",
    "Our analysis consists of two types of comparison: comparison against all available RNA-Seq tumor samples (pan-cancer) and comparison against similar RNA-Seq tumor samples. We identify similar samples with several approaches, but most rely on correlation of RNA-Seq expression between samples. One ALL sample was correlated with AML samples, and  after our analysis we found out that the individual had relapsed with AML. A second ALL sample was also correlated with AML. If they correlated because they had a similar library preparation (ribo-depeletion instead of the poly-adenylation selection used for most samples in the compendium) this finding may be artifactual rather than substantive. \n",
    "\n",
    "Please examine the tertiary output from the two samples below (TH01_0121_S01 and TH01_0123_S01) to assess whether they are AML-like. Specifically, consider that The observation of AML-ness was made using the compendium version 3. Please check the results of the latest analysis, which uses version 5, to determine whether the most similar samples are still AML (See \"How to examine tertiary output\"). Are those most correlated samples typical AML samples (e.g. are they placed in the tumor map with other pediatric AMLs)? \n",
    "\n",
    "Using the all-v-all correlation matrix, identify all samples correlated with the two in question more highly than 0.87 (the 95th percentile of all correlations among samples). How many are AML? How many are ALL? \n",
    "\n",
    "Consider other ALL samples. Do they have AML samples among their most correlated samples?\n",
    "\n",
    "What other samples highly correlate with AML samples?\n",
    "\n",
    "\n",
    "### relevant samples\n",
    "TH01_0121_S01\n",
    "TH01_0123_S01\n",
    "\n",
    "\n",
    "\n",
    "#operations/turg/project definitions#\n"
   ]
  },
  {
   "cell_type": "markdown",
   "metadata": {
    "deletable": true,
    "editable": true
   },
   "source": [
    "# Data\n",
    "\n",
    "## All against all correlations file for compendium version 5\n",
    "\n",
    "`/data/archive/compendium/v5/v5_all_by_all.2018-02-04.tsv`\n",
    "\n",
    "## Clinical data (with disease annotation) for compendium version 5 (which excludes ribo depleted samples)\n",
    "\n",
    "`/data/archive/compendium/v5/clinical.tsv`\n",
    "\n",
    "## Tertiary Output\n",
    "\n",
    "To copy over .html summary of sample:\n",
    "```\n",
    "s=TH01_0123_S01 # or whatever ID you're looking for\n",
    "repo=TURG-Research\n",
    "mkdir ~/work/$repo/data/$s/\n",
    "ls /data/archive/downstream/$s/tertiary/\n",
    "# identify latest version and specify it in the next step\n",
    "cp /data/archive/downstream/$s/tertiary/treehouse-8.0.1_comp-v5/Summary.html  ~/work/$repo/data/$s/\n",
    "# if an \"annotations.json\" file is present, copy that too\n",
    "cp /data/archive/downstream/$s/tertiary/treehouse-8.0.1_comp-v5/annotations.json  ~/work/$repo/data/$s/\n",
    "\n",
    "```"
   ]
  }
 ],
 "metadata": {
  "kernelspec": {
   "display_name": "Python 3",
   "language": "python",
   "name": "python3"
  },
  "language_info": {
   "codemirror_mode": {
    "name": "ipython",
    "version": 3
   },
   "file_extension": ".py",
   "mimetype": "text/x-python",
   "name": "python",
   "nbconvert_exporter": "python",
   "pygments_lexer": "ipython3",
   "version": "3.5.2"
  }
 },
 "nbformat": 4,
 "nbformat_minor": 2
}
