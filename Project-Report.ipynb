{
 "cells": [
  {
   "cell_type": "markdown",
   "metadata": {
    "deletable": true,
    "editable": true
   },
   "source": [
    "# Project-Report"
   ]
  },
  {
   "cell_type": "markdown",
   "metadata": {},
   "source": [
    "### From Holly:"
   ]
  },
  {
   "cell_type": "markdown",
   "metadata": {},
   "source": [
    "# Keller's research into the cause of AML-ness in two ALL samples\n",
    "Keller will investigate whether differences due to a ribodepletion library preparation could have caused two ALL (acute lymphocytic leukemia) samples to appear to have AML-like (acute myeloid leukemia) characteristics. \n",
    "\n",
    "This is an important project for Treehouse. Our overall goal is that every kid with cancer have a treatment option, which is not currently the case. We take advantage of the relatively recent development of targeted drugs. Unlike chemo therapies, which indiscriminately target all dividing cells in the body, targeted therapies affect a pathway or class of molecules. In adults, these activated pathways are often identified with a mutation, but mutation in analysis in kids is usually less fruitful because fewer clinically actionable mutations are known, in part because fewer mutations exist. Consequently, we seek to identify pathways with transcriptional evidence of activation, and we use comparative RNA-Seq analysis to accomplish it.\n",
    "\n",
    "Our analysis consists of two types of comparison: comparison against all available RNA-Seq tumor samples (pan-cancer) and comparison against similar RNA-Seq tumor samples. We identify similar samples with several approaches, but most rely on correlation of RNA-Seq expression between samples. One ALL sample was correlated with AML samples, and  after our analysis we found out that the individual had relapsed with AML. A second ALL sample was also correlated with AML. If they correlated because they had a similar library preparation (ribo-depeletion instead of the poly-adenylation selection used for most samples in the compendium) this finding may be artifactual rather than substantive. \n",
    "\n",
    "Please examine the tertiary output from the two samples below (TH01_0121_S01 and TH01_0123_S01) to assess whether they are AML-like. Specifically, consider that The observation of AML-ness was made using the compendium version 3. Please check the results of the latest analysis, which uses version 5, to determine whether the most similar samples are still AML (See \"How to examine tertiary output\"). Are those most correlated samples typical AML samples (e.g. are they placed in the tumor map with other pediatric AMLs)? \n",
    "\n",
    "Using the all-v-all correlation matrix, identify all samples correlated with the two in question more highly than 0.87 (the 95th percentile of all correlations among samples). How many are AML? How many are ALL? \n",
    "\n",
    "Consider other ALL samples. Do they have AML samples among their most correlated samples?\n",
    "\n",
    "What other samples highly correlate with AML samples?\n",
    "\n",
    "\n",
    "### relevant samples\n",
    "TH01_0121_S01\n",
    "TH01_0123_S01\n",
    "\n",
    "\n",
    "\n",
    "#operations/turg/project definitions#\n"
   ]
  },
  {
   "cell_type": "markdown",
   "metadata": {},
   "source": [
    "### My report:"
   ]
  },
  {
   "cell_type": "markdown",
   "metadata": {},
   "source": [
    "#### Project Description\n",
    "\n",
    "For some sample $s$, let $C_s = [s_1, s_2, ..., s_m]$ be the set of all samples have correlation greater than $0.87$ to $s$. The value $0.87$ corresponds to the top $1\\%$ of correlations in the `all_v_all` matrix, so this list should on average have size $0.01 \\cdot 11341 \\approx 113$.\n",
    "\n",
    "Define the *AMLness* of sample $s$ to be the fraction of samples in $C_s$ that have the disease *acute myeloid leukemia*. In other words,\n",
    "\n",
    "`AMLness(s) = \"fraction of highly correlated samples to s that have AML\"`\n",
    "\n",
    "This metric is a way of measuring how correlated a given sample is overall to the AML disease. We expect AML samples to have high AMLness, and other samples to have low AMLness.\n",
    "\n",
    "The goal of this project is to investigate why many ALL samples have high AMLness."
   ]
  },
  {
   "cell_type": "markdown",
   "metadata": {},
   "source": [
    "#### Results\n",
    "\n",
    "The result of my project is that the most high AMLness ALL samples are artifactual, due to comparison across data sources. The two samples of most interest are unfortunately from the small `TH` dataset, making AMLness meaningless."
   ]
  },
  {
   "cell_type": "markdown",
   "metadata": {},
   "source": [
    "#### Methodology\n",
    "\n",
    "My experiments were carried out in jupyter notebooks, using the Python and R programming languages."
   ]
  },
  {
   "cell_type": "markdown",
   "metadata": {
    "deletable": true,
    "editable": true
   },
   "source": [
    "# 1. and 3.\n",
    "\n",
    "Recheck results: are most similar samples still AML in v5?\n",
    "\n",
    "### TH01_0121_S01\n",
    "\n",
    "https://tumormap.ucsc.edu/?p=CKCC/v5&node=TH26_0657_S04,TH26_0657_S05,TH26_0657_S03,TCGA-AB-2915-03,TCGA-AB-2868-03,TCGA-AB-2952-03&x=24,25,24,346,346,344&y=323,321,322,40,42,40\n",
    "\n",
    "Of `6` most correlated samples, `3/6 = 0.5` were AML.\n",
    "\n",
    "### TH01_0123_S01\n",
    "\n",
    "https://tumormap.ucsc.edu/?p=CKCC/v5&node=TCGA-AB-2934-03,TCGA-AB-2890-03,TCGA-AB-2927-03,TCGA-AB-2936-03,TCGA-AB-2915-03,TCGA-AB-2868-03&x=340,349,350,349,346,346&y=44,43,44,48,40,42\n",
    "\n",
    "Of `6` most correlated samples, `6/6 = 1.0` were AML.\n",
    "\n",
    "In both cases, all correlated ALL samples did not cluster with AML, and all correlated AML samples did."
   ]
  }
 ],
 "metadata": {
  "kernelspec": {
   "display_name": "Python 3",
   "language": "python",
   "name": "python3"
  },
  "language_info": {
   "codemirror_mode": {
    "name": "ipython",
    "version": 3
   },
   "file_extension": ".py",
   "mimetype": "text/x-python",
   "name": "python",
   "nbconvert_exporter": "python",
   "pygments_lexer": "ipython3",
   "version": "3.5.2"
  }
 },
 "nbformat": 4,
 "nbformat_minor": 2
}
