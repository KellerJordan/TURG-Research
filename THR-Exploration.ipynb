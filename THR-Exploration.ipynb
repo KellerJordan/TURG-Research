{
 "cells": [
  {
   "cell_type": "markdown",
   "metadata": {
    "deletable": true,
    "editable": true
   },
   "source": [
    "# THR-Exploration\n",
    "\n",
    "Import data and conduct experiments to answer questions about ALL/AML correlation within THR sources"
   ]
  },
  {
   "cell_type": "code",
   "execution_count": 1,
   "metadata": {
    "collapsed": false,
    "deletable": true,
    "editable": true
   },
   "outputs": [],
   "source": [
    "%load_ext autoreload\n",
    "%autoreload 2"
   ]
  },
  {
   "cell_type": "code",
   "execution_count": 17,
   "metadata": {
    "collapsed": true,
    "deletable": true,
    "editable": true
   },
   "outputs": [],
   "source": [
    "import re\n",
    "from collections import Counter\n",
    "\n",
    "import pandas as pd\n",
    "import matplotlib.pyplot as plt\n",
    "import seaborn as sb\n",
    "\n",
    "from utils import *"
   ]
  },
  {
   "cell_type": "code",
   "execution_count": 3,
   "metadata": {
    "collapsed": false,
    "deletable": true,
    "editable": true,
    "scrolled": false
   },
   "outputs": [
    {
     "name": "stdout",
     "output_type": "stream",
     "text": [
      "CPU times: user 1min 43s, sys: 24.5 s, total: 2min 7s\n",
      "Wall time: 2min 7s\n"
     ]
    }
   ],
   "source": [
    "%%time\n",
    "corr_df = load_tsv('/data/archive/compendium/v5/v5_all_by_all.2018-02-04.tsv')\n",
    "meta_df = load_tsv('/data/archive/compendium/v5/clinical.tsv')\n",
    "prep_df = load_tsv('~/work/TURG/resources/TreehouseCompendiumSamples_LibraryPrep.tsv')\n",
    "type_df = pd.read_csv('~/work/TURG/resources/DiseaseAnnotations_2018-04_Labels.csv', sep=',', index_col=1)"
   ]
  },
  {
   "cell_type": "markdown",
   "metadata": {
    "deletable": true,
    "editable": true
   },
   "source": [
    "### How correlated are other ALL samples with AML?\n",
    "\n",
    "Specifically, what impact does RiboD preparation have on their correlation? Use the `type_df` to find ALL samples of interest.\n",
    "\n",
    "This section is the only one where preparation type matters, as in every other case I search only in the correlation matrix which contains only PolyA-prepared samples."
   ]
  },
  {
   "cell_type": "code",
   "execution_count": 90,
   "metadata": {
    "collapsed": false,
    "deletable": true,
    "editable": true
   },
   "outputs": [
    {
     "name": "stdout",
     "output_type": "stream",
     "text": [
      "Number of donors missing from file structure: 150\n"
     ]
    }
   ],
   "source": [
    "samples_with_ALL = get_samples_by_disease(ALL, type_df, meta_df)"
   ]
  },
  {
   "cell_type": "code",
   "execution_count": 224,
   "metadata": {
    "collapsed": false,
    "deletable": true,
    "editable": true
   },
   "outputs": [
    {
     "name": "stdout",
     "output_type": "stream",
     "text": [
      "CPU times: user 19.9 s, sys: 420 ms, total: 20.3 s\n",
      "Wall time: 20.7 s\n"
     ]
    }
   ],
   "source": [
    "%%time\n",
    "fracs_aml = pd.Series()\n",
    "sources = pd.Series()\n",
    "prep_types = pd.Series()\n",
    "corr_fracs = {\n",
    "    'TCGA': pd.Series(),\n",
    "    'THR': pd.Series(),\n",
    "    'TARGET': pd.Series(),\n",
    "    'TH': pd.Series()}\n",
    "aml_fracs = {\n",
    "    'TCGA': pd.Series(),\n",
    "    'THR': pd.Series(),\n",
    "    'TARGET': pd.Series(),\n",
    "    'TH': pd.Series()}\n",
    "\n",
    "for sample_id in samples_with_ALL:\n",
    "    \n",
    "    # sources\n",
    "    source = sample_to_source(sample_id)\n",
    "    sources[sample_id] = source\n",
    "    \n",
    "    # prep_types\n",
    "    sample_prep = prep_df.loc[sample_id]['libSelType']\n",
    "    if type(sample_prep) == pd.Series:\n",
    "        sample_prep = sample_prep.iloc[0]\n",
    "    prep_types[sample_id] = sample_prep\n",
    "    \n",
    "    # get correlated diseases\n",
    "    sample_ids = get_samples_correlated_above_threshold(sample_id, corr_df)\n",
    "    if sample_ids is None:\n",
    "        continue\n",
    "    \n",
    "    # filter for only ones from the same source\n",
    "    source = sample_to_source(sample_id)\n",
    "    sample_ids = [s for s in sample_ids if sample_to_source(s) == source]\n",
    "    \n",
    "    donor_ids = [sample_to_donor(sample_id) for sample_id in sample_ids]\n",
    "    disease_counts = type_df.loc[donor_ids]['Diagnosis/Disease'].value_counts()\n",
    "    disease_distrib = disease_counts / sum(disease_counts)\n",
    "    \n",
    "    fracs_aml[sample_id] = disease_distrib[AML] if AML in disease_distrib else 0.0\n",
    "\n",
    "    # corr_fracs & aml_fracs\n",
    "    corr_sources = Counter([re.match(r'[a-zA-Z]+', s).group() for s in sample_ids])\n",
    "    for src in src_fracs.keys():\n",
    "        corr_fracs[src][sample_id] = corr_sources[src] / sum(corr_sources.values()) if src in corr_sources else 0.0\n",
    "    \n",
    "    aml_samples = [s for s in sample_ids if meta_df.loc[s]['disease'] == AML]\n",
    "    aml_sources = Counter([re.match(r'[a-zA-Z]+', s).group() for s in aml_samples])\n",
    "    for src in src_fracs.keys():\n",
    "        aml_fracs[src][sample_id] = aml_sources[src] / sum(aml_sources.values()) if src in aml_sources else 0.0"
   ]
  },
  {
   "cell_type": "code",
   "execution_count": 225,
   "metadata": {
    "collapsed": false,
    "deletable": true,
    "editable": true,
    "scrolled": false
   },
   "outputs": [],
   "source": [
    "corr_fracs = {'frac_'+src: col for src, col in corr_fracs.items()}\n",
    "aml_fracs = {'aml_frac_'+src: col for src, col in aml_fracs.items()}\n",
    "\n",
    "samples_df = pd.DataFrame({'frac_AML': fracs_aml, 'source': sources, 'prep_type': prep_types,\n",
    "                           **corr_fracs, **aml_fracs})\n",
    "samples_df.index.name = 'THid'\n",
    "samples_df = samples_df[pd.notnull(samples_df['frac_AML'])]"
   ]
  },
  {
   "cell_type": "code",
   "execution_count": 226,
   "metadata": {
    "collapsed": true,
    "deletable": true,
    "editable": true
   },
   "outputs": [],
   "source": [
    "THR_df = samples_df[samples_df['source'] == 'THR']"
   ]
  },
  {
   "cell_type": "code",
   "execution_count": 227,
   "metadata": {
    "collapsed": true,
    "deletable": true,
    "editable": true
   },
   "outputs": [],
   "source": [
    "palette = sb.color_palette(n_colors=10)\n",
    "color_1 = palette[0]"
   ]
  },
  {
   "cell_type": "code",
   "execution_count": 228,
   "metadata": {
    "collapsed": false,
    "deletable": true,
    "editable": true
   },
   "outputs": [
    {
     "data": {
      "text/html": [
       "<div>\n",
       "<table border=\"1\" class=\"dataframe\">\n",
       "  <thead>\n",
       "    <tr style=\"text-align: right;\">\n",
       "      <th></th>\n",
       "      <th>aml_frac_TARGET</th>\n",
       "      <th>aml_frac_TCGA</th>\n",
       "      <th>aml_frac_TH</th>\n",
       "      <th>aml_frac_THR</th>\n",
       "      <th>frac_AML</th>\n",
       "      <th>frac_TARGET</th>\n",
       "      <th>frac_TCGA</th>\n",
       "      <th>frac_TH</th>\n",
       "      <th>frac_THR</th>\n",
       "      <th>prep_type</th>\n",
       "      <th>source</th>\n",
       "    </tr>\n",
       "    <tr>\n",
       "      <th>THid</th>\n",
       "      <th></th>\n",
       "      <th></th>\n",
       "      <th></th>\n",
       "      <th></th>\n",
       "      <th></th>\n",
       "      <th></th>\n",
       "      <th></th>\n",
       "      <th></th>\n",
       "      <th></th>\n",
       "      <th></th>\n",
       "      <th></th>\n",
       "    </tr>\n",
       "  </thead>\n",
       "  <tbody>\n",
       "    <tr>\n",
       "      <th>THR08_0161_S01</th>\n",
       "      <td>0.0</td>\n",
       "      <td>0.0</td>\n",
       "      <td>0.0</td>\n",
       "      <td>1.0</td>\n",
       "      <td>0.130435</td>\n",
       "      <td>0.0</td>\n",
       "      <td>0.0</td>\n",
       "      <td>0.0</td>\n",
       "      <td>1.0</td>\n",
       "      <td>polyASelection</td>\n",
       "      <td>THR</td>\n",
       "    </tr>\n",
       "    <tr>\n",
       "      <th>THR08_0161_S02</th>\n",
       "      <td>0.0</td>\n",
       "      <td>0.0</td>\n",
       "      <td>0.0</td>\n",
       "      <td>1.0</td>\n",
       "      <td>0.147541</td>\n",
       "      <td>0.0</td>\n",
       "      <td>0.0</td>\n",
       "      <td>0.0</td>\n",
       "      <td>1.0</td>\n",
       "      <td>polyASelection</td>\n",
       "      <td>THR</td>\n",
       "    </tr>\n",
       "    <tr>\n",
       "      <th>THR08_0162_S01</th>\n",
       "      <td>0.0</td>\n",
       "      <td>0.0</td>\n",
       "      <td>0.0</td>\n",
       "      <td>1.0</td>\n",
       "      <td>0.130435</td>\n",
       "      <td>0.0</td>\n",
       "      <td>0.0</td>\n",
       "      <td>0.0</td>\n",
       "      <td>1.0</td>\n",
       "      <td>polyASelection</td>\n",
       "      <td>THR</td>\n",
       "    </tr>\n",
       "    <tr>\n",
       "      <th>THR08_0162_S02</th>\n",
       "      <td>0.0</td>\n",
       "      <td>0.0</td>\n",
       "      <td>0.0</td>\n",
       "      <td>1.0</td>\n",
       "      <td>0.138889</td>\n",
       "      <td>0.0</td>\n",
       "      <td>0.0</td>\n",
       "      <td>0.0</td>\n",
       "      <td>1.0</td>\n",
       "      <td>polyASelection</td>\n",
       "      <td>THR</td>\n",
       "    </tr>\n",
       "    <tr>\n",
       "      <th>THR08_0163_S01</th>\n",
       "      <td>0.0</td>\n",
       "      <td>0.0</td>\n",
       "      <td>0.0</td>\n",
       "      <td>1.0</td>\n",
       "      <td>0.132353</td>\n",
       "      <td>0.0</td>\n",
       "      <td>0.0</td>\n",
       "      <td>0.0</td>\n",
       "      <td>1.0</td>\n",
       "      <td>polyASelection</td>\n",
       "      <td>THR</td>\n",
       "    </tr>\n",
       "  </tbody>\n",
       "</table>\n",
       "</div>"
      ],
      "text/plain": [
       "                aml_frac_TARGET  aml_frac_TCGA  aml_frac_TH  aml_frac_THR  \\\n",
       "THid                                                                        \n",
       "THR08_0161_S01              0.0            0.0          0.0           1.0   \n",
       "THR08_0161_S02              0.0            0.0          0.0           1.0   \n",
       "THR08_0162_S01              0.0            0.0          0.0           1.0   \n",
       "THR08_0162_S02              0.0            0.0          0.0           1.0   \n",
       "THR08_0163_S01              0.0            0.0          0.0           1.0   \n",
       "\n",
       "                frac_AML  frac_TARGET  frac_TCGA  frac_TH  frac_THR  \\\n",
       "THid                                                                  \n",
       "THR08_0161_S01  0.130435          0.0        0.0      0.0       1.0   \n",
       "THR08_0161_S02  0.147541          0.0        0.0      0.0       1.0   \n",
       "THR08_0162_S01  0.130435          0.0        0.0      0.0       1.0   \n",
       "THR08_0162_S02  0.138889          0.0        0.0      0.0       1.0   \n",
       "THR08_0163_S01  0.132353          0.0        0.0      0.0       1.0   \n",
       "\n",
       "                     prep_type source  \n",
       "THid                                   \n",
       "THR08_0161_S01  polyASelection    THR  \n",
       "THR08_0161_S02  polyASelection    THR  \n",
       "THR08_0162_S01  polyASelection    THR  \n",
       "THR08_0162_S02  polyASelection    THR  \n",
       "THR08_0163_S01  polyASelection    THR  "
      ]
     },
     "execution_count": 228,
     "metadata": {},
     "output_type": "execute_result"
    }
   ],
   "source": [
    "THR_df.head()"
   ]
  },
  {
   "cell_type": "code",
   "execution_count": 229,
   "metadata": {
    "collapsed": false,
    "deletable": true,
    "editable": true,
    "scrolled": false
   },
   "outputs": [
    {
     "data": {
      "image/png": "[encoded data removed]",
      "text/plain": [
       "<matplotlib.figure.Figure at 0x7efc18933e10>"
      ]
     },
     "metadata": {},
     "output_type": "display_data"
    },
    {
     "data": {
      "image/png": "[encoded data removed]",
      "text/plain": [
       "<matplotlib.figure.Figure at 0x7efc15dd26d8>"
      ]
     },
     "metadata": {},
     "output_type": "display_data"
    },
    {
     "data": {
      "image/png": "[encoded data removed]",
      "text/plain": [
       "<matplotlib.figure.Figure at 0x7efc1aa32978>"
      ]
     },
     "metadata": {},
     "output_type": "display_data"
    }
   ],
   "source": [
    "plt.hist(THR_df['frac_THR'], bins=30, range=(0, 1), color=color_1, alpha=1.0)\n",
    "plt.xlabel('Frac THR')\n",
    "plt.ylabel('Freq')\n",
    "plt.show()\n",
    "\n",
    "plt.hist(THR_df['frac_AML'], bins=30, range=(0, 1), color=color_1, alpha=1.0)\n",
    "plt.xlabel('Frac AML')\n",
    "plt.ylabel('Freq')\n",
    "plt.show()\n",
    "\n",
    "plt.hist(THR_df['aml_frac_THR'], bins=30, range=(0, 1), color=color_1, alpha=1.0)\n",
    "plt.xlabel('Frac of correlated AML\\'s that are also in THR')\n",
    "plt.ylabel('Freq')\n",
    "plt.show()"
   ]
  },
  {
   "cell_type": "code",
   "execution_count": 230,
   "metadata": {
    "collapsed": false,
    "deletable": true,
    "editable": true
   },
   "outputs": [],
   "source": [
    "sub_sources = pd.Series()\n",
    "for sample in samples_with_ALL:\n",
    "    m = re.search(r'[0-9][0-9]', sample)\n",
    "    sub_src = sample[m.start():m.end()]\n",
    "    sub_sources[sample] = sub_src\n",
    "samples_df['sub_source'] = sub_sources"
   ]
  },
  {
   "cell_type": "code",
   "execution_count": 231,
   "metadata": {
    "collapsed": true,
    "deletable": true,
    "editable": true
   },
   "outputs": [],
   "source": [
    "def plot_criterion(df, criterion=None, title=None, range=(0, 1), color='blue', alpha=1.0, label=''):\n",
    "    src_df = df if criterion is None else df.loc[criterion]\n",
    "    plt.hist(src_df['frac_AML'], bins=30, range=range, color=color, alpha=alpha, label=label)\n",
    "    if title is not None:\n",
    "        plt.title(title)\n",
    "    plt.xlabel('Frac AML')\n",
    "    plt.ylabel('Freq')"
   ]
  },
  {
   "cell_type": "code",
   "execution_count": 232,
   "metadata": {
    "collapsed": false,
    "deletable": true,
    "editable": true
   },
   "outputs": [
    {
     "data": {
      "image/png": "[encoded data removed]",
      "text/plain": [
       "<matplotlib.figure.Figure at 0x7efc1b821cc0>"
      ]
     },
     "metadata": {},
     "output_type": "display_data"
    }
   ],
   "source": [
    "src_constraint = samples_df['source'] == 'THR'\n",
    "sub_srcs = samples_df.loc[src_constraint]['sub_source'].unique()\n",
    "constraints = {sub_src: (src_constraint & (samples_df['sub_source'] == sub_src)) for sub_src in sub_srcs}\n",
    "\n",
    "for i, (subsrc, constraint) in enumerate(constraints.items()):\n",
    "    plot_criterion(samples_df, constraint, title='THR', color=palette[i], alpha=0.7, label=subsrc)\n",
    "    plt.legend(loc='upper right')\n",
    "plt.show()"
   ]
  },
  {
   "cell_type": "markdown",
   "metadata": {
    "deletable": true,
    "editable": true
   },
   "source": [
    "In the study that produced the samples from THR08, they note that 47 of the total had the MLL mutation, and 18 did not. This cell investigates whether there appear to be two clusters of size proportional to the MLL mutation/non-mutation classes within the AMLness histogram. Because we only have 53 ALL samples from THR08, I color the first 18 / (18 + 47) blue, and the rest green.\n",
    "\n",
    "Result: two clusters do appear to form."
   ]
  },
  {
   "cell_type": "code",
   "execution_count": 243,
   "metadata": {
    "collapsed": false,
    "deletable": true,
    "editable": true
   },
   "outputs": [
    {
     "name": "stdout",
     "output_type": "stream",
     "text": [
      "Top 15 ALL samples by AMLness out of 280\n"
     ]
    },
    {
     "data": {
      "text/plain": [
       "THid\n",
       "TARGET-10-PARMXF-04    0.855670\n",
       "TARGET-10-PAPZST-04    0.789474\n",
       "TARGET-10-PANUSN-04    0.719212\n",
       "TARGET-10-PAPHEK-03    0.693878\n",
       "TARGET-10-PARGML-03    0.512821\n",
       "TARGET-10-PAPZST-09    0.511737\n",
       "TARGET-10-PARLEK-03    0.438144\n",
       "TARGET-10-PAPSPG-04    0.425532\n",
       "TARGET-10-PANJWJ-09    0.399177\n",
       "TARGET-10-PANZPJ-04    0.395062\n",
       "TARGET-10-PARJZZ-04    0.372093\n",
       "TARGET-10-PARUBK-03    0.362573\n",
       "TARGET-10-PANJPG-09    0.351779\n",
       "TARGET-10-PAPIGX-09    0.343915\n",
       "TARGET-10-PAPBFN-09    0.340426\n",
       "Name: frac_AML, dtype: float64"
      ]
     },
     "execution_count": 243,
     "metadata": {},
     "output_type": "execute_result"
    }
   ],
   "source": [
    "frac_aml_series = samples_df[samples_df['source'] == 'TARGET']['frac_AML'].sort_values(ascending=False)\n",
    "print('Top 15 ALL samples by AMLness out of 280')\n",
    "frac_aml_series.iloc[:15]"
   ]
  },
  {
   "cell_type": "code",
   "execution_count": 255,
   "metadata": {
    "collapsed": false,
    "deletable": true,
    "editable": true,
    "scrolled": true
   },
   "outputs": [
    {
     "name": "stdout",
     "output_type": "stream",
     "text": [
      "140\n",
      "TARGET-10-PARMXF-04    1.000000\n",
      "TARGET-20-PASTUH-03    0.910344\n",
      "TARGET-20-PADYIR-09    0.907019\n",
      "TARGET-20-PARSHM-03    0.904924\n",
      "TARGET-20-PARTAL-04    0.901704\n",
      "TCGA-AB-2981-03        0.901131\n",
      "TARGET-20-PARDMG-09    0.899815\n",
      "TARGET-20-PASYJI-04    0.898054\n",
      "TCGA-AB-2987-03        0.897718\n",
      "TARGET-20-PARYFN-04    0.897594\n",
      "TARGET-20-PARUDL-03    0.897412\n",
      "TARGET-20-PARFAL-04    0.896628\n",
      "TARGET-20-PANPLS-03    0.894987\n",
      "TARGET-20-PARWDZ-09    0.893257\n",
      "TARGET-20-PARTAL-09    0.892334\n",
      "TH03_0285_S01          0.892253\n",
      "TARGET-20-PAEERJ-04    0.892253\n",
      "TARGET-20-PAEIKD-09    0.891498\n",
      "TARGET-20-PARSAN-03    0.891302\n",
      "TARGET-20-PAKIWK-09    0.891110\n",
      "TARGET-20-PAECCE-09    0.890634\n",
      "TCGA-AB-2836-03        0.890428\n",
      "TARGET-20-PASGGK-03    0.890276\n",
      "TCGA-AB-2851-03        0.889906\n",
      "TCGA-AB-2916-03        0.889726\n",
      "TARGET-20-PAPVDV-03    0.889722\n",
      "TARGET-20-PASXNR-04    0.889625\n",
      "TARGET-20-PANPKN-09    0.888974\n",
      "TARGET-20-PARIMT-03    0.888790\n",
      "TARGET-20-PASVYA-09    0.888543\n",
      "TARGET-20-PALGKX-04    0.887567\n",
      "TCGA-AB-2985-03        0.887181\n",
      "TARGET-20-PARKCX-09    0.886659\n",
      "TARGET-10-PARGML-03    0.886419\n",
      "TCGA-AB-2934-03        0.885828\n",
      "TARGET-20-PASMHY-03    0.885612\n",
      "TARGET-20-PASJGZ-04    0.885456\n",
      "TCGA-AB-2833-03        0.885279\n",
      "TARGET-20-PASCRZ-04    0.885072\n",
      "TCGA-AB-2837-03        0.884937\n"
     ]
    }
   ],
   "source": [
    "# sample_id = 'TH01_0123_S01'\n",
    "# sample_id = 'THR08_0170_S01'\n",
    "sample_id = 'TARGET-10-PARMXF-04'\n",
    "# sample_id = 'TARGET-20-PARTAL-04'\n",
    "sample_corrs = pd.Series(get_sample_correlations(sample_id, corr_df))\n",
    "top_percent = sample_corrs[sample_corrs > 0.87].sort_values(ascending=False)\n",
    "print(len(top_percent))\n",
    "# print(frac_aml_series[sample_id])\n",
    "print(top_percent[:40].to_string())"
   ]
  },
  {
   "cell_type": "code",
   "execution_count": 256,
   "metadata": {
    "collapsed": false,
    "deletable": true,
    "editable": true,
    "scrolled": false
   },
   "outputs": [
    {
     "name": "stdout",
     "output_type": "stream",
     "text": [
      "TARGET-10-PARMXF-04        acute lymphoblastic leukemia\n",
      "TARGET-20-PASTUH-03              acute myeloid leukemia\n",
      "TARGET-20-PADYIR-09              acute myeloid leukemia\n",
      "TARGET-20-PARSHM-03              acute myeloid leukemia\n",
      "TARGET-20-PARTAL-04              acute myeloid leukemia\n",
      "TCGA-AB-2981-03                  acute myeloid leukemia\n",
      "TARGET-20-PARDMG-09              acute myeloid leukemia\n",
      "TARGET-20-PASYJI-04              acute myeloid leukemia\n",
      "TCGA-AB-2987-03                  acute myeloid leukemia\n",
      "TARGET-20-PARYFN-04              acute myeloid leukemia\n",
      "TARGET-20-PARUDL-03              acute myeloid leukemia\n",
      "TARGET-20-PARFAL-04              acute myeloid leukemia\n",
      "TARGET-20-PANPLS-03              acute myeloid leukemia\n",
      "TARGET-20-PARWDZ-09              acute myeloid leukemia\n",
      "TARGET-20-PARTAL-09              acute myeloid leukemia\n",
      "TH03_0285_S01          juvenile myelomonocytic leukemia\n",
      "TARGET-20-PAEERJ-04              acute myeloid leukemia\n",
      "TARGET-20-PAEIKD-09              acute myeloid leukemia\n",
      "TARGET-20-PARSAN-03              acute myeloid leukemia\n",
      "TARGET-20-PAKIWK-09              acute myeloid leukemia\n",
      "TARGET-20-PAECCE-09              acute myeloid leukemia\n",
      "TCGA-AB-2836-03                  acute myeloid leukemia\n",
      "TARGET-20-PASGGK-03              acute myeloid leukemia\n",
      "TCGA-AB-2851-03                  acute myeloid leukemia\n",
      "TCGA-AB-2916-03                  acute myeloid leukemia\n",
      "TARGET-20-PAPVDV-03              acute myeloid leukemia\n",
      "TARGET-20-PASXNR-04              acute myeloid leukemia\n",
      "TARGET-20-PANPKN-09              acute myeloid leukemia\n",
      "TARGET-20-PARIMT-03              acute myeloid leukemia\n",
      "TARGET-20-PASVYA-09              acute myeloid leukemia\n",
      "TARGET-20-PALGKX-04              acute myeloid leukemia\n",
      "TCGA-AB-2985-03                  acute myeloid leukemia\n",
      "TARGET-20-PARKCX-09              acute myeloid leukemia\n",
      "TARGET-10-PARGML-03        acute lymphoblastic leukemia\n",
      "TCGA-AB-2934-03                  acute myeloid leukemia\n",
      "TARGET-20-PASMHY-03              acute myeloid leukemia\n",
      "TARGET-20-PASJGZ-04              acute myeloid leukemia\n",
      "TCGA-AB-2833-03                  acute myeloid leukemia\n",
      "TARGET-20-PASCRZ-04              acute myeloid leukemia\n",
      "TCGA-AB-2837-03                  acute myeloid leukemia\n",
      "TARGET-20-PAEERJ-09              acute myeloid leukemia\n",
      "TH26_0657_S03                            acute leukemia\n",
      "TCGA-AB-2873-03                  acute myeloid leukemia\n",
      "TARGET-20-PARXBT-09              acute myeloid leukemia\n",
      "TCGA-AB-2973-03                  acute myeloid leukemia\n",
      "TARGET-20-PASFJB-03              acute myeloid leukemia\n",
      "TCGA-AB-2866-03                  acute myeloid leukemia\n",
      "TARGET-20-PARYGA-09              acute myeloid leukemia\n",
      "TARGET-20-PANGTF-09              acute myeloid leukemia\n",
      "TCGA-AB-2915-03                  acute myeloid leukemia\n",
      "TARGET-20-PASVVS-09              acute myeloid leukemia\n",
      "TH26_0657_S04                            acute leukemia\n",
      "TARGET-20-PANLIR-09              acute myeloid leukemia\n",
      "TARGET-20-PATIAK-09              acute myeloid leukemia\n",
      "TARGET-20-PADYIR-04              acute myeloid leukemia\n",
      "TH26_0657_S05                            acute leukemia\n",
      "TH26_0657_S06                            acute leukemia\n",
      "TARGET-20-PASPLU-04              acute myeloid leukemia\n",
      "TCGA-AB-2948-03                  acute myeloid leukemia\n",
      "TARGET-20-PANYNR-03              acute myeloid leukemia\n",
      "TCGA-AB-2881-03                  acute myeloid leukemia\n",
      "TARGET-20-PANDIX-09              acute myeloid leukemia\n",
      "TARGET-20-PASGZS-04              acute myeloid leukemia\n",
      "TARGET-10-PANSPW-09        acute lymphoblastic leukemia\n",
      "TARGET-20-PAEDKB-04              acute myeloid leukemia\n",
      "TARGET-21-PATAIJ-42              acute myeloid leukemia\n",
      "TARGET-20-PASPLU-09              acute myeloid leukemia\n",
      "TARGET-20-PANYSN-03              acute myeloid leukemia\n",
      "TCGA-AB-2811-03                  acute myeloid leukemia\n",
      "TCGA-AB-2867-03                  acute myeloid leukemia\n",
      "TCGA-AB-2884-03                  acute myeloid leukemia\n",
      "TARGET-10-PAPHZT-09        acute lymphoblastic leukemia\n",
      "TCGA-AB-2825-03                  acute myeloid leukemia\n",
      "TARGET-20-PASCGR-04              acute myeloid leukemia\n",
      "TARGET-20-PARBFJ-09              acute myeloid leukemia\n",
      "TARGET-20-PAEFGR-09              acute myeloid leukemia\n",
      "TARGET-20-PARVAI-03              acute myeloid leukemia\n",
      "TARGET-20-PASGMZ-09              acute myeloid leukemia\n",
      "TCGA-AB-2890-03                  acute myeloid leukemia\n",
      "TARGET-20-PASTTW-09              acute myeloid leukemia\n",
      "TCGA-AB-2927-03                  acute myeloid leukemia\n",
      "TARGET-10-PANRDC-03        acute lymphoblastic leukemia\n",
      "TARGET-20-PANGDN-09              acute myeloid leukemia\n",
      "TARGET-20-PASMYS-04              acute myeloid leukemia\n",
      "TARGET-20-PANHYK-09              acute myeloid leukemia\n",
      "TARGET-20-PARIHK-03              acute myeloid leukemia\n",
      "TCGA-AB-2935-03                  acute myeloid leukemia\n",
      "TCGA-AB-2813-03                  acute myeloid leukemia\n",
      "TARGET-10-PAPKNC-09        acute lymphoblastic leukemia\n",
      "TARGET-20-PARIZR-03              acute myeloid leukemia\n",
      "TARGET-10-PAPCVZ-04        acute lymphoblastic leukemia\n",
      "TARGET-20-PAPWYK-09              acute myeloid leukemia\n",
      "TARGET-20-PASWPT-09              acute myeloid leukemia\n",
      "TARGET-20-PADZCG-04              acute myeloid leukemia\n",
      "TARGET-20-PANLLX-09              acute myeloid leukemia\n",
      "TARGET-20-PARPDS-09              acute myeloid leukemia\n",
      "TARGET-10-PANRWG-09        acute lymphoblastic leukemia\n",
      "TARGET-20-PAKLPD-09              acute myeloid leukemia\n",
      "TARGET-20-PARMZF-09              acute myeloid leukemia\n",
      "TARGET-20-PASINN-04              acute myeloid leukemia\n",
      "TARGET-20-PASCGR-03              acute myeloid leukemia\n",
      "TCGA-AB-2835-03                  acute myeloid leukemia\n",
      "TARGET-20-PASIBG-09              acute myeloid leukemia\n",
      "TARGET-20-PAPXRJ-09              acute myeloid leukemia\n",
      "TARGET-20-PARANT-09              acute myeloid leukemia\n",
      "TARGET-20-PADZCG-09              acute myeloid leukemia\n",
      "TARGET-10-PANZXZ-03        acute lymphoblastic leukemia\n",
      "TARGET-20-PARFAL-09              acute myeloid leukemia\n",
      "TCGA-AB-2932-03                  acute myeloid leukemia\n",
      "TCGA-AB-2805-03                  acute myeloid leukemia\n",
      "TARGET-20-PARPWL-09              acute myeloid leukemia\n",
      "TARGET-20-PAKTCX-09              acute myeloid leukemia\n",
      "TARGET-10-PAPGYC-09        acute lymphoblastic leukemia\n",
      "TARGET-20-PANFMG-09              acute myeloid leukemia\n",
      "TCGA-AB-2854-03                  acute myeloid leukemia\n",
      "TCGA-AB-2900-03                  acute myeloid leukemia\n",
      "TARGET-10-PANKDT-03        acute lymphoblastic leukemia\n",
      "TARGET-20-PARUBT-40              acute myeloid leukemia\n",
      "TCGA-AB-2954-03                  acute myeloid leukemia\n",
      "TARGET-10-PANUSN-04        acute lymphoblastic leukemia\n",
      "TARGET-20-PASWAJ-04              acute myeloid leukemia\n",
      "TCGA-AB-2924-03                  acute myeloid leukemia\n",
      "TCGA-AB-2942-03                  acute myeloid leukemia\n",
      "TARGET-20-PARYFN-03              acute myeloid leukemia\n",
      "TARGET-20-PARCVS-04              acute myeloid leukemia\n",
      "TCGA-AB-2860-03                  acute myeloid leukemia\n",
      "TCGA-AB-2933-03                  acute myeloid leukemia\n",
      "TCGA-AB-2952-03                  acute myeloid leukemia\n",
      "TARGET-20-PANUTB-09              acute myeloid leukemia\n",
      "TARGET-20-PASWPD-09              acute myeloid leukemia\n",
      "TARGET-20-PARUUB-09              acute myeloid leukemia\n",
      "TARGET-10-PAPHEK-03        acute lymphoblastic leukemia\n",
      "TCGA-AB-2856-03                  acute myeloid leukemia\n",
      "TARGET-20-PATJHJ-09              acute myeloid leukemia\n",
      "TARGET-20-PABLDZ-09              acute myeloid leukemia\n",
      "TCGA-AB-2865-03                  acute myeloid leukemia\n",
      "TARGET-20-PANKKE-09              acute myeloid leukemia\n",
      "THR31_0879_S01                   acute myeloid leukemia\n",
      "TARGET-10-PANJWJ-09        acute lymphoblastic leukemia\n",
      "TCGA-AB-2921-03                  acute myeloid leukemia\n"
     ]
    }
   ],
   "source": [
    "print(meta_df['disease'].loc[top_percent.index].to_string())"
   ]
  },
  {
   "cell_type": "code",
   "execution_count": 152,
   "metadata": {
    "collapsed": false,
    "deletable": true,
    "editable": true,
    "scrolled": true
   },
   "outputs": [
    {
     "data": {
      "image/png": "[encoded data removed]",
      "text/plain": [
       "<matplotlib.figure.Figure at 0x7efc15a0cb38>"
      ]
     },
     "metadata": {},
     "output_type": "display_data"
    }
   ],
   "source": [
    "frac_aml_thr08 = samples_df[src_constraint & (samples_df['sub_source'] == '08')]['frac_AML']\n",
    "frac_aml_list = sorted(list(frac_aml_thr08))\n",
    "total = len(frac_aml_list)\n",
    "non_mll = int(total * 18 / (18 + 47))\n",
    "plt.hist(frac_aml_list[:non_mll], range=(0, 1), bins=30, alpha=0.8)\n",
    "plt.hist(frac_aml_list[non_mll:], range=(0, 1), bins=30, alpha=0.8)\n",
    "plt.show()"
   ]
  },
  {
   "cell_type": "markdown",
   "metadata": {
    "deletable": true,
    "editable": true
   },
   "source": [
    "However, the paper also notes that overall we expect around 80% of ALL samples to have the MLL variation. As a result, this bimodality should transfer over to the samples from TARGET, but it does not, so another explanation is needed."
   ]
  },
  {
   "cell_type": "markdown",
   "metadata": {},
   "source": [
    "# Extra Cells"
   ]
  },
  {
   "cell_type": "code",
   "execution_count": null,
   "metadata": {
    "collapsed": true
   },
   "outputs": [],
   "source": [
    "sub_sources = pd.Series()\n",
    "for sample in samples_with_ALL:\n",
    "    m = re.search(r'[0-9][0-9]', sample)\n",
    "    sub_src = sample[m.start():m.end()]\n",
    "    sub_sources[sample] = sub_src\n",
    "samples_df['sub_source'] = sub_sources"
   ]
  },
  {
   "cell_type": "code",
   "execution_count": null,
   "metadata": {
    "collapsed": true
   },
   "outputs": [],
   "source": [
    "src_constraint = samples_df['source'] == 'THR'\n",
    "sub_srcs = samples_df.loc[src_constraint]['sub_source'].unique()\n",
    "constraints = {sub_src: (src_constraint & (samples_df['sub_source'] == sub_src)) for sub_src in sub_srcs}\n",
    "\n",
    "for i, (subsrc, constraint) in enumerate(constraints.items()):\n",
    "    plot_criterion(samples_df, constraint, title='THR', color=palette[i], alpha=0.7, label=subsrc)\n",
    "    plt.legend(loc='upper right')\n",
    "plt.show()"
   ]
  }
 ],
 "metadata": {
  "kernelspec": {
   "display_name": "Python 3",
   "language": "python",
   "name": "python3"
  },
  "language_info": {
   "codemirror_mode": {
    "name": "ipython",
    "version": 3
   },
   "file_extension": ".py",
   "mimetype": "text/x-python",
   "name": "python",
   "nbconvert_exporter": "python",
   "pygments_lexer": "ipython3",
   "version": "3.5.2"
  }
 },
 "nbformat": 4,
 "nbformat_minor": 2
}
