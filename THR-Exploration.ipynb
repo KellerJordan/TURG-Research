{
 "cells": [
  {
   "cell_type": "markdown",
   "metadata": {
    "deletable": true,
    "editable": true
   },
   "source": [
    "# THR-Exploration\n",
    "\n",
    "Import data and conduct experiments to answer questions about ALL/AML correlation"
   ]
  },
  {
   "cell_type": "code",
   "execution_count": 1,
   "metadata": {
    "collapsed": false,
    "deletable": true,
    "editable": true
   },
   "outputs": [],
   "source": [
    "%load_ext autoreload\n",
    "%autoreload 2"
   ]
  },
  {
   "cell_type": "code",
   "execution_count": 17,
   "metadata": {
    "collapsed": true,
    "deletable": true,
    "editable": true
   },
   "outputs": [],
   "source": [
    "import re\n",
    "from collections import Counter\n",
    "\n",
    "import pandas as pd\n",
    "import matplotlib.pyplot as plt\n",
    "import seaborn as sb\n",
    "\n",
    "from utils import *"
   ]
  },
  {
   "cell_type": "code",
   "execution_count": 3,
   "metadata": {
    "collapsed": false,
    "deletable": true,
    "editable": true,
    "scrolled": false
   },
   "outputs": [
    {
     "name": "stdout",
     "output_type": "stream",
     "text": [
      "CPU times: user 1min 43s, sys: 24.5 s, total: 2min 7s\n",
      "Wall time: 2min 7s\n"
     ]
    }
   ],
   "source": [
    "%%time\n",
    "corr_df = load_tsv('/data/archive/compendium/v5/v5_all_by_all.2018-02-04.tsv')\n",
    "meta_df = load_tsv('/data/archive/compendium/v5/clinical.tsv')\n",
    "prep_df = load_tsv('~/work/TURG/resources/TreehouseCompendiumSamples_LibraryPrep.tsv')\n",
    "type_df = pd.read_csv('~/work/TURG/resources/DiseaseAnnotations_2018-04_Labels.csv', sep=',', index_col=1)"
   ]
  },
  {
   "cell_type": "markdown",
   "metadata": {
    "deletable": true,
    "editable": true
   },
   "source": [
    "### How correlated are other ALL samples with AML?\n",
    "\n",
    "Specifically, what impact does RiboD preparation have on their correlation? Use the `type_df` to find ALL samples of interest.\n",
    "\n",
    "This section is the only one where preparation type matters, as in every other case I search only in the correlation matrix which contains only PolyA-prepared samples."
   ]
  },
  {
   "cell_type": "code",
   "execution_count": 90,
   "metadata": {
    "collapsed": false
   },
   "outputs": [
    {
     "name": "stdout",
     "output_type": "stream",
     "text": [
      "Number of donors missing from file structure: 150\n"
     ]
    }
   ],
   "source": [
    "samples_with_ALL = get_samples_by_disease(ALL, type_df, meta_df)"
   ]
  },
  {
   "cell_type": "code",
   "execution_count": 116,
   "metadata": {
    "collapsed": false,
    "deletable": true,
    "editable": true
   },
   "outputs": [
    {
     "name": "stdout",
     "output_type": "stream",
     "text": [
      "CPU times: user 23.1 s, sys: 392 ms, total: 23.5 s\n",
      "Wall time: 23.6 s\n"
     ]
    }
   ],
   "source": [
    "%%time\n",
    "fracs_aml = pd.Series()\n",
    "sources = pd.Series()\n",
    "prep_types = pd.Series()\n",
    "corr_fracs = {\n",
    "    'TCGA': pd.Series(),\n",
    "    'THR': pd.Series(),\n",
    "    'TARGET': pd.Series(),\n",
    "    'TH': pd.Series()}\n",
    "aml_fracs = {\n",
    "    'TCGA': pd.Series(),\n",
    "    'THR': pd.Series(),\n",
    "    'TARGET': pd.Series(),\n",
    "    'TH': pd.Series()}\n",
    "\n",
    "for sample_id in samples_with_ALL:\n",
    "    \n",
    "    # sources\n",
    "    source = sample_to_source(sample_id)\n",
    "    sources[sample_id] = source\n",
    "    \n",
    "    # prep_types\n",
    "    sample_prep = prep_df.loc[sample_id]['libSelType']\n",
    "    if type(sample_prep) == pd.Series:\n",
    "        sample_prep = sample_prep.iloc[0]\n",
    "    prep_types[sample_id] = sample_prep\n",
    "    \n",
    "    # get correlated diseases\n",
    "    sample_ids = get_samples_correlated_above_threshold(sample_id, corr_df)\n",
    "    if sample_ids is None:\n",
    "        continue\n",
    "    donor_ids = [sample_to_donor(sample_id) for sample_id in sample_ids]\n",
    "    disease_counts = type_df.loc[donor_ids]['Diagnosis/Disease'].value_counts()\n",
    "    disease_distrib = disease_counts / sum(disease_counts)\n",
    "    \n",
    "    fracs_aml[sample_id] = disease_distrib[AML] if AML in disease_distrib else 0.0\n",
    "\n",
    "    # corr_fracs & aml_fracs\n",
    "    corr_sources = Counter([re.match(r'[a-zA-Z]+', s).group() for s in sample_ids])\n",
    "    for src in src_fracs.keys():\n",
    "        corr_fracs[src][sample_id] = corr_sources[src] / sum(corr_sources.values()) if src in corr_sources else 0.0\n",
    "    \n",
    "    aml_samples = [s for s in sample_ids if meta_df.loc[s]['disease'] == AML]\n",
    "    aml_sources = Counter([re.match(r'[a-zA-Z]+', s).group() for s in aml_samples])\n",
    "    for src in src_fracs.keys():\n",
    "        aml_fracs[src][sample_id] = aml_sources[src] / sum(aml_sources.values()) if src in aml_sources else 0.0"
   ]
  },
  {
   "cell_type": "code",
   "execution_count": 117,
   "metadata": {
    "collapsed": false,
    "deletable": true,
    "editable": true,
    "scrolled": false
   },
   "outputs": [],
   "source": [
    "corr_fracs = {'frac_'+src: col for src, col in corr_fracs.items()}\n",
    "aml_fracs = {'aml_frac_'+src: col for src, col in aml_fracs.items()}\n",
    "\n",
    "samples_df = pd.DataFrame({'frac_AML': fracs_aml, 'source': sources, 'prep_type': prep_types,\n",
    "                           **corr_fracs, **aml_fracs})\n",
    "samples_df.index.name = 'THid'\n",
    "samples_df = samples_df[pd.notnull(samples_df['frac_AML'])]"
   ]
  },
  {
   "cell_type": "code",
   "execution_count": 118,
   "metadata": {
    "collapsed": true
   },
   "outputs": [],
   "source": [
    "THR_df = samples_df[samples_df['source'] == 'THR']"
   ]
  },
  {
   "cell_type": "code",
   "execution_count": 119,
   "metadata": {
    "collapsed": true
   },
   "outputs": [],
   "source": [
    "palette = sb.color_palette(n_colors=10)\n",
    "color_1 = palette[0]"
   ]
  },
  {
   "cell_type": "code",
   "execution_count": 120,
   "metadata": {
    "collapsed": false
   },
   "outputs": [
    {
     "data": {
      "text/html": [
       "<div>\n",
       "<table border=\"1\" class=\"dataframe\">\n",
       "  <thead>\n",
       "    <tr style=\"text-align: right;\">\n",
       "      <th></th>\n",
       "      <th>aml_frac_TARGET</th>\n",
       "      <th>aml_frac_TCGA</th>\n",
       "      <th>aml_frac_TH</th>\n",
       "      <th>aml_frac_THR</th>\n",
       "      <th>frac_AML</th>\n",
       "      <th>frac_TARGET</th>\n",
       "      <th>frac_TCGA</th>\n",
       "      <th>frac_TH</th>\n",
       "      <th>frac_THR</th>\n",
       "      <th>prep_type</th>\n",
       "      <th>source</th>\n",
       "    </tr>\n",
       "    <tr>\n",
       "      <th>THid</th>\n",
       "      <th></th>\n",
       "      <th></th>\n",
       "      <th></th>\n",
       "      <th></th>\n",
       "      <th></th>\n",
       "      <th></th>\n",
       "      <th></th>\n",
       "      <th></th>\n",
       "      <th></th>\n",
       "      <th></th>\n",
       "      <th></th>\n",
       "    </tr>\n",
       "  </thead>\n",
       "  <tbody>\n",
       "    <tr>\n",
       "      <th>THR08_0161_S01</th>\n",
       "      <td>0.020619</td>\n",
       "      <td>0.886598</td>\n",
       "      <td>0.0</td>\n",
       "      <td>0.092784</td>\n",
       "      <td>0.515957</td>\n",
       "      <td>0.159574</td>\n",
       "      <td>0.457447</td>\n",
       "      <td>0.015957</td>\n",
       "      <td>0.367021</td>\n",
       "      <td>polyASelection</td>\n",
       "      <td>THR</td>\n",
       "    </tr>\n",
       "    <tr>\n",
       "      <th>THR08_0161_S02</th>\n",
       "      <td>0.021978</td>\n",
       "      <td>0.879121</td>\n",
       "      <td>0.0</td>\n",
       "      <td>0.098901</td>\n",
       "      <td>0.594771</td>\n",
       "      <td>0.071895</td>\n",
       "      <td>0.522876</td>\n",
       "      <td>0.006536</td>\n",
       "      <td>0.398693</td>\n",
       "      <td>polyASelection</td>\n",
       "      <td>THR</td>\n",
       "    </tr>\n",
       "    <tr>\n",
       "      <th>THR08_0162_S01</th>\n",
       "      <td>0.129032</td>\n",
       "      <td>0.580645</td>\n",
       "      <td>0.0</td>\n",
       "      <td>0.290323</td>\n",
       "      <td>0.254098</td>\n",
       "      <td>0.245902</td>\n",
       "      <td>0.147541</td>\n",
       "      <td>0.040984</td>\n",
       "      <td>0.565574</td>\n",
       "      <td>polyASelection</td>\n",
       "      <td>THR</td>\n",
       "    </tr>\n",
       "    <tr>\n",
       "      <th>THR08_0162_S02</th>\n",
       "      <td>0.021277</td>\n",
       "      <td>0.872340</td>\n",
       "      <td>0.0</td>\n",
       "      <td>0.106383</td>\n",
       "      <td>0.531073</td>\n",
       "      <td>0.118644</td>\n",
       "      <td>0.463277</td>\n",
       "      <td>0.011299</td>\n",
       "      <td>0.406780</td>\n",
       "      <td>polyASelection</td>\n",
       "      <td>THR</td>\n",
       "    </tr>\n",
       "    <tr>\n",
       "      <th>THR08_0163_S01</th>\n",
       "      <td>0.000000</td>\n",
       "      <td>0.897727</td>\n",
       "      <td>0.0</td>\n",
       "      <td>0.102273</td>\n",
       "      <td>0.536585</td>\n",
       "      <td>0.091463</td>\n",
       "      <td>0.481707</td>\n",
       "      <td>0.012195</td>\n",
       "      <td>0.414634</td>\n",
       "      <td>polyASelection</td>\n",
       "      <td>THR</td>\n",
       "    </tr>\n",
       "  </tbody>\n",
       "</table>\n",
       "</div>"
      ],
      "text/plain": [
       "                aml_frac_TARGET  aml_frac_TCGA  aml_frac_TH  aml_frac_THR  \\\n",
       "THid                                                                        \n",
       "THR08_0161_S01         0.020619       0.886598          0.0      0.092784   \n",
       "THR08_0161_S02         0.021978       0.879121          0.0      0.098901   \n",
       "THR08_0162_S01         0.129032       0.580645          0.0      0.290323   \n",
       "THR08_0162_S02         0.021277       0.872340          0.0      0.106383   \n",
       "THR08_0163_S01         0.000000       0.897727          0.0      0.102273   \n",
       "\n",
       "                frac_AML  frac_TARGET  frac_TCGA   frac_TH  frac_THR  \\\n",
       "THid                                                                   \n",
       "THR08_0161_S01  0.515957     0.159574   0.457447  0.015957  0.367021   \n",
       "THR08_0161_S02  0.594771     0.071895   0.522876  0.006536  0.398693   \n",
       "THR08_0162_S01  0.254098     0.245902   0.147541  0.040984  0.565574   \n",
       "THR08_0162_S02  0.531073     0.118644   0.463277  0.011299  0.406780   \n",
       "THR08_0163_S01  0.536585     0.091463   0.481707  0.012195  0.414634   \n",
       "\n",
       "                     prep_type source  \n",
       "THid                                   \n",
       "THR08_0161_S01  polyASelection    THR  \n",
       "THR08_0161_S02  polyASelection    THR  \n",
       "THR08_0162_S01  polyASelection    THR  \n",
       "THR08_0162_S02  polyASelection    THR  \n",
       "THR08_0163_S01  polyASelection    THR  "
      ]
     },
     "execution_count": 120,
     "metadata": {},
     "output_type": "execute_result"
    }
   ],
   "source": [
    "THR_df.head()"
   ]
  },
  {
   "cell_type": "code",
   "execution_count": 126,
   "metadata": {
    "collapsed": false,
    "scrolled": false
   },
   "outputs": [
    {
     "data": {
      "image/png": "[encoded data removed]",
      "text/plain": [
       "<matplotlib.figure.Figure at 0x7efc15f2a6a0>"
      ]
     },
     "metadata": {},
     "output_type": "display_data"
    },
    {
     "data": {
      "image/png": "[encoded data removed]",
      "text/plain": [
       "<matplotlib.figure.Figure at 0x7efc16f0f240>"
      ]
     },
     "metadata": {},
     "output_type": "display_data"
    },
    {
     "data": {
      "image/png": "[encoded data removed]",
      "text/plain": [
       "<matplotlib.figure.Figure at 0x7efc1704e240>"
      ]
     },
     "metadata": {},
     "output_type": "display_data"
    }
   ],
   "source": [
    "plt.hist(THR_df['frac_THR'], bins=30, range=(0, 1), color=color_1, alpha=1.0)\n",
    "plt.xlabel('Frac THR')\n",
    "plt.ylabel('Freq')\n",
    "plt.show()\n",
    "\n",
    "plt.hist(THR_df['frac_AML'], bins=30, range=(0, 1), color=color_1, alpha=1.0)\n",
    "plt.xlabel('Frac AML')\n",
    "plt.ylabel('Freq')\n",
    "plt.show()\n",
    "\n",
    "plt.hist(THR_df['aml_frac_THR'], bins=30, range=(0, 1), color=color_1, alpha=1.0)\n",
    "plt.xlabel('Frac of correlated AML\\'s that are also in THR')\n",
    "plt.ylabel('Freq')\n",
    "plt.show()"
   ]
  },
  {
   "cell_type": "code",
   "execution_count": 48,
   "metadata": {
    "collapsed": false,
    "deletable": true,
    "editable": true
   },
   "outputs": [],
   "source": [
    "sub_sources = pd.Series()\n",
    "for sample in samples_with_ALL:\n",
    "    m = re.search(r'[0-9][0-9]', sample)\n",
    "    sub_src = sample[m.start():m.end()]\n",
    "    sub_sources[sample] = sub_src\n",
    "samples_df['sub_source'] = sub_sources"
   ]
  },
  {
   "cell_type": "code",
   "execution_count": 68,
   "metadata": {
    "collapsed": false,
    "deletable": true,
    "editable": true
   },
   "outputs": [
    {
     "data": {
      "image/png": "[encoded data removed]",
      "text/plain": [
       "<matplotlib.figure.Figure at 0x7f5de3121da0>"
      ]
     },
     "metadata": {},
     "output_type": "display_data"
    }
   ],
   "source": [
    "src_constraint = samples_df['source'] == 'THR'\n",
    "sub_srcs = samples_df.loc[src_constraint]['sub_source'].unique()\n",
    "constraints = {sub_src: (src_constraint & (samples_df['sub_source'] == sub_src)) for sub_src in sub_srcs}\n",
    "\n",
    "for i, (subsrc, constraint) in enumerate(constraints.items()):\n",
    "    plot_criterion(samples_df, constraint, title='THR', color=palette[i], alpha=0.7, label=subsrc)\n",
    "    plt.legend(loc='upper right')\n",
    "plt.show()"
   ]
  }
 ],
 "metadata": {
  "kernelspec": {
   "display_name": "Python 3",
   "language": "python",
   "name": "python3"
  },
  "language_info": {
   "codemirror_mode": {
    "name": "ipython",
    "version": 3
   },
   "file_extension": ".py",
   "mimetype": "text/x-python",
   "name": "python",
   "nbconvert_exporter": "python",
   "pygments_lexer": "ipython3",
   "version": "3.5.2"
  }
 },
 "nbformat": 4,
 "nbformat_minor": 2
}
